{
 "cells": [
  {
   "cell_type": "code",
   "execution_count": 1,
   "metadata": {},
   "outputs": [],
   "source": [
    "#Author Jeffrey Tang\n",
    "import numpy as np\n",
    "import pandas as pd\n",
    "import seaborn as sns\n",
    "import matplotlib.pyplot as plt\n",
    "import tensorflow as tf\n",
    "from tensorflow import keras\n",
    "import re\n",
    "import random\n",
    "import warnings\n",
    "\n",
    "from time import time\n",
    "from collections import defaultdict\n",
    "\n",
    "import spacy \n",
    "\n",
    "import logging\n",
    "logging.basicConfig(format=\"%(levelname)s - %(asctime)s: %(message)s\", datefmt= '%H:%M:%S', level=logging.INFO)\n",
    "\n",
    "\n",
    "from sklearn.feature_extraction.text import TfidfVectorizer\n",
    "from sklearn.naive_bayes import MultinomialNB\n",
    "from sklearn.linear_model import LogisticRegression\n",
    "from sklearn.neighbors import KNeighborsClassifier\n",
    "from sklearn.ensemble import RandomForestClassifier\n",
    "from sklearn.tree import DecisionTreeClassifier\n",
    "from xgboost import XGBClassifier\n",
    "from sklearn.metrics import roc_auc_score, confusion_matrix, plot_confusion_matrix, plot_precision_recall_curve\n",
    "\n",
    "warnings.simplefilter(\"ignore\")"
   ]
  },
  {
   "cell_type": "code",
   "execution_count": 2,
   "metadata": {},
   "outputs": [
    {
     "data": {
      "text/html": [
       "<div>\n",
       "<style scoped>\n",
       "    .dataframe tbody tr th:only-of-type {\n",
       "        vertical-align: middle;\n",
       "    }\n",
       "\n",
       "    .dataframe tbody tr th {\n",
       "        vertical-align: top;\n",
       "    }\n",
       "\n",
       "    .dataframe thead th {\n",
       "        text-align: right;\n",
       "    }\n",
       "</style>\n",
       "<table border=\"1\" class=\"dataframe\">\n",
       "  <thead>\n",
       "    <tr style=\"text-align: right;\">\n",
       "      <th></th>\n",
       "      <th>Id</th>\n",
       "      <th>Title</th>\n",
       "      <th>Body</th>\n",
       "      <th>Tags</th>\n",
       "      <th>CreationDate</th>\n",
       "      <th>Y</th>\n",
       "    </tr>\n",
       "  </thead>\n",
       "  <tbody>\n",
       "    <tr>\n",
       "      <th>0</th>\n",
       "      <td>34552656</td>\n",
       "      <td>Java: Repeat Task Every Random Seconds</td>\n",
       "      <td>&lt;p&gt;I'm already familiar with repeating tasks e...</td>\n",
       "      <td>&lt;java&gt;&lt;repeat&gt;</td>\n",
       "      <td>2016-01-01 00:21:59</td>\n",
       "      <td>LQ_CLOSE</td>\n",
       "    </tr>\n",
       "    <tr>\n",
       "      <th>1</th>\n",
       "      <td>34552974</td>\n",
       "      <td>How to get all the child records from differen...</td>\n",
       "      <td>I am having 4 different tables like \\r\\nselect...</td>\n",
       "      <td>&lt;sql&gt;&lt;sql-server&gt;</td>\n",
       "      <td>2016-01-01 01:44:52</td>\n",
       "      <td>LQ_EDIT</td>\n",
       "    </tr>\n",
       "    <tr>\n",
       "      <th>2</th>\n",
       "      <td>34553034</td>\n",
       "      <td>Why are Java Optionals immutable?</td>\n",
       "      <td>&lt;p&gt;I'd like to understand why Java 8 Optionals...</td>\n",
       "      <td>&lt;java&gt;&lt;optional&gt;</td>\n",
       "      <td>2016-01-01 02:03:20</td>\n",
       "      <td>HQ</td>\n",
       "    </tr>\n",
       "    <tr>\n",
       "      <th>3</th>\n",
       "      <td>34553174</td>\n",
       "      <td>Text Overlay Image with Darkened Opacity React...</td>\n",
       "      <td>&lt;p&gt;I am attempting to overlay a title over an ...</td>\n",
       "      <td>&lt;javascript&gt;&lt;image&gt;&lt;overlay&gt;&lt;react-native&gt;&lt;opa...</td>\n",
       "      <td>2016-01-01 02:48:24</td>\n",
       "      <td>HQ</td>\n",
       "    </tr>\n",
       "    <tr>\n",
       "      <th>4</th>\n",
       "      <td>34553318</td>\n",
       "      <td>Why ternary operator in swift is so picky?</td>\n",
       "      <td>&lt;p&gt;The question is very simple, but I just cou...</td>\n",
       "      <td>&lt;swift&gt;&lt;operators&gt;&lt;whitespace&gt;&lt;ternary-operato...</td>\n",
       "      <td>2016-01-01 03:30:17</td>\n",
       "      <td>HQ</td>\n",
       "    </tr>\n",
       "    <tr>\n",
       "      <th>...</th>\n",
       "      <td>...</td>\n",
       "      <td>...</td>\n",
       "      <td>...</td>\n",
       "      <td>...</td>\n",
       "      <td>...</td>\n",
       "      <td>...</td>\n",
       "    </tr>\n",
       "    <tr>\n",
       "      <th>59995</th>\n",
       "      <td>60467932</td>\n",
       "      <td>C++ The correct way to multiply an integer and...</td>\n",
       "      <td>&lt;p&gt;I try to multiply an integer by a double bu...</td>\n",
       "      <td>&lt;c++&gt;</td>\n",
       "      <td>2020-02-29 17:46:41</td>\n",
       "      <td>LQ_CLOSE</td>\n",
       "    </tr>\n",
       "    <tr>\n",
       "      <th>59996</th>\n",
       "      <td>60468018</td>\n",
       "      <td>How can I make a c# application outside of vis...</td>\n",
       "      <td>&lt;p&gt;I'm very new to programming and I'm teachin...</td>\n",
       "      <td>&lt;c#&gt;&lt;visual-studio&gt;</td>\n",
       "      <td>2020-02-29 17:55:56</td>\n",
       "      <td>LQ_CLOSE</td>\n",
       "    </tr>\n",
       "    <tr>\n",
       "      <th>59997</th>\n",
       "      <td>60468378</td>\n",
       "      <td>WHY DJANGO IS SHOWING ME THIS ERROR WHEN I TRY...</td>\n",
       "      <td>*URLS.PY*\\r\\n    //URLS.PY FILE\\r\\n    fro...</td>\n",
       "      <td>&lt;django&gt;&lt;django-views&gt;&lt;django-templates&gt;</td>\n",
       "      <td>2020-02-29 18:35:39</td>\n",
       "      <td>LQ_EDIT</td>\n",
       "    </tr>\n",
       "    <tr>\n",
       "      <th>59998</th>\n",
       "      <td>60469392</td>\n",
       "      <td>PHP - getting the content of php page</td>\n",
       "      <td>&lt;p&gt;I have a controller inside which a server i...</td>\n",
       "      <td>&lt;javascript&gt;&lt;php&gt;&lt;html&gt;</td>\n",
       "      <td>2020-02-29 20:32:14</td>\n",
       "      <td>LQ_CLOSE</td>\n",
       "    </tr>\n",
       "    <tr>\n",
       "      <th>59999</th>\n",
       "      <td>60470323</td>\n",
       "      <td>Why can't overloaded functions vary only by re...</td>\n",
       "      <td>&lt;p&gt;So i was recently helping someone out with ...</td>\n",
       "      <td>&lt;c++&gt;&lt;overloading&gt;&lt;return-type&gt;</td>\n",
       "      <td>2020-02-29 22:45:56</td>\n",
       "      <td>LQ_CLOSE</td>\n",
       "    </tr>\n",
       "  </tbody>\n",
       "</table>\n",
       "<p>60000 rows × 6 columns</p>\n",
       "</div>"
      ],
      "text/plain": [
       "             Id                                              Title  \\\n",
       "0      34552656             Java: Repeat Task Every Random Seconds   \n",
       "1      34552974  How to get all the child records from differen...   \n",
       "2      34553034                  Why are Java Optionals immutable?   \n",
       "3      34553174  Text Overlay Image with Darkened Opacity React...   \n",
       "4      34553318         Why ternary operator in swift is so picky?   \n",
       "...         ...                                                ...   \n",
       "59995  60467932  C++ The correct way to multiply an integer and...   \n",
       "59996  60468018  How can I make a c# application outside of vis...   \n",
       "59997  60468378  WHY DJANGO IS SHOWING ME THIS ERROR WHEN I TRY...   \n",
       "59998  60469392              PHP - getting the content of php page   \n",
       "59999  60470323  Why can't overloaded functions vary only by re...   \n",
       "\n",
       "                                                    Body  \\\n",
       "0      <p>I'm already familiar with repeating tasks e...   \n",
       "1      I am having 4 different tables like \\r\\nselect...   \n",
       "2      <p>I'd like to understand why Java 8 Optionals...   \n",
       "3      <p>I am attempting to overlay a title over an ...   \n",
       "4      <p>The question is very simple, but I just cou...   \n",
       "...                                                  ...   \n",
       "59995  <p>I try to multiply an integer by a double bu...   \n",
       "59996  <p>I'm very new to programming and I'm teachin...   \n",
       "59997      *URLS.PY*\\r\\n    //URLS.PY FILE\\r\\n    fro...   \n",
       "59998  <p>I have a controller inside which a server i...   \n",
       "59999  <p>So i was recently helping someone out with ...   \n",
       "\n",
       "                                                    Tags         CreationDate  \\\n",
       "0                                         <java><repeat>  2016-01-01 00:21:59   \n",
       "1                                      <sql><sql-server>  2016-01-01 01:44:52   \n",
       "2                                       <java><optional>  2016-01-01 02:03:20   \n",
       "3      <javascript><image><overlay><react-native><opa...  2016-01-01 02:48:24   \n",
       "4      <swift><operators><whitespace><ternary-operato...  2016-01-01 03:30:17   \n",
       "...                                                  ...                  ...   \n",
       "59995                                              <c++>  2020-02-29 17:46:41   \n",
       "59996                                <c#><visual-studio>  2020-02-29 17:55:56   \n",
       "59997           <django><django-views><django-templates>  2020-02-29 18:35:39   \n",
       "59998                            <javascript><php><html>  2020-02-29 20:32:14   \n",
       "59999                    <c++><overloading><return-type>  2020-02-29 22:45:56   \n",
       "\n",
       "              Y  \n",
       "0      LQ_CLOSE  \n",
       "1       LQ_EDIT  \n",
       "2            HQ  \n",
       "3            HQ  \n",
       "4            HQ  \n",
       "...         ...  \n",
       "59995  LQ_CLOSE  \n",
       "59996  LQ_CLOSE  \n",
       "59997   LQ_EDIT  \n",
       "59998  LQ_CLOSE  \n",
       "59999  LQ_CLOSE  \n",
       "\n",
       "[60000 rows x 6 columns]"
      ]
     },
     "execution_count": 2,
     "metadata": {},
     "output_type": "execute_result"
    }
   ],
   "source": [
    "#Data Preprocessing\n",
    "df = pd.read_csv('stack overflow data.csv')\n",
    "df"
   ]
  },
  {
   "cell_type": "code",
   "execution_count": 3,
   "metadata": {},
   "outputs": [
    {
     "name": "stdout",
     "output_type": "stream",
     "text": [
      "<class 'pandas.core.frame.DataFrame'>\n",
      "RangeIndex: 60000 entries, 0 to 59999\n",
      "Data columns (total 6 columns):\n",
      " #   Column        Non-Null Count  Dtype \n",
      "---  ------        --------------  ----- \n",
      " 0   Id            60000 non-null  int64 \n",
      " 1   Title         60000 non-null  object\n",
      " 2   Body          60000 non-null  object\n",
      " 3   Tags          60000 non-null  object\n",
      " 4   CreationDate  60000 non-null  object\n",
      " 5   Y             60000 non-null  object\n",
      "dtypes: int64(1), object(5)\n",
      "memory usage: 2.7+ MB\n"
     ]
    }
   ],
   "source": [
    "df.info()"
   ]
  },
  {
   "cell_type": "code",
   "execution_count": 4,
   "metadata": {},
   "outputs": [],
   "source": [
    "#df['Category']=pd.get_dummies(df['Y'])\n",
    "df2 = pd.get_dummies(df['Y'])\n",
    "df2\n",
    "df['Y'] = df['Y'].map({'LQ_CLOSE':0, 'LQ_EDIT': 1, 'HQ':2})"
   ]
  },
  {
   "cell_type": "code",
   "execution_count": 5,
   "metadata": {},
   "outputs": [
    {
     "data": {
      "text/plain": [
       "<AxesSubplot:xlabel='HQ', ylabel='count'>"
      ]
     },
     "execution_count": 5,
     "metadata": {},
     "output_type": "execute_result"
    },
    {
     "data": {
      "image/png": "[encoded data removed]",
      "text/plain": [
       "<Figure size 432x288 with 1 Axes>"
      ]
     },
     "metadata": {
      "needs_background": "light"
     },
     "output_type": "display_data"
    }
   ],
   "source": [
    "sns.countplot(x='HQ',data=df2)"
   ]
  },
  {
   "cell_type": "code",
   "execution_count": 6,
   "metadata": {},
   "outputs": [
    {
     "data": {
      "text/html": [
       "<div>\n",
       "<style scoped>\n",
       "    .dataframe tbody tr th:only-of-type {\n",
       "        vertical-align: middle;\n",
       "    }\n",
       "\n",
       "    .dataframe tbody tr th {\n",
       "        vertical-align: top;\n",
       "    }\n",
       "\n",
       "    .dataframe thead th {\n",
       "        text-align: right;\n",
       "    }\n",
       "</style>\n",
       "<table border=\"1\" class=\"dataframe\">\n",
       "  <thead>\n",
       "    <tr style=\"text-align: right;\">\n",
       "      <th></th>\n",
       "      <th>Body</th>\n",
       "      <th>Tags</th>\n",
       "      <th>Y</th>\n",
       "      <th>text</th>\n",
       "    </tr>\n",
       "  </thead>\n",
       "  <tbody>\n",
       "    <tr>\n",
       "      <th>0</th>\n",
       "      <td>&lt;p&gt;I'm already familiar with repeating tasks e...</td>\n",
       "      <td>&lt;java&gt;&lt;repeat&gt;</td>\n",
       "      <td>0</td>\n",
       "      <td>Java: Repeat Task Every Random Seconds &lt;p&gt;I'm ...</td>\n",
       "    </tr>\n",
       "    <tr>\n",
       "      <th>1</th>\n",
       "      <td>I am having 4 different tables like \\r\\nselect...</td>\n",
       "      <td>&lt;sql&gt;&lt;sql-server&gt;</td>\n",
       "      <td>1</td>\n",
       "      <td>How to get all the child records from differen...</td>\n",
       "    </tr>\n",
       "    <tr>\n",
       "      <th>2</th>\n",
       "      <td>&lt;p&gt;I'd like to understand why Java 8 Optionals...</td>\n",
       "      <td>&lt;java&gt;&lt;optional&gt;</td>\n",
       "      <td>2</td>\n",
       "      <td>Why are Java Optionals immutable? &lt;p&gt;I'd like ...</td>\n",
       "    </tr>\n",
       "    <tr>\n",
       "      <th>3</th>\n",
       "      <td>&lt;p&gt;I am attempting to overlay a title over an ...</td>\n",
       "      <td>&lt;javascript&gt;&lt;image&gt;&lt;overlay&gt;&lt;react-native&gt;&lt;opa...</td>\n",
       "      <td>2</td>\n",
       "      <td>Text Overlay Image with Darkened Opacity React...</td>\n",
       "    </tr>\n",
       "    <tr>\n",
       "      <th>4</th>\n",
       "      <td>&lt;p&gt;The question is very simple, but I just cou...</td>\n",
       "      <td>&lt;swift&gt;&lt;operators&gt;&lt;whitespace&gt;&lt;ternary-operato...</td>\n",
       "      <td>2</td>\n",
       "      <td>Why ternary operator in swift is so picky? &lt;p&gt;...</td>\n",
       "    </tr>\n",
       "    <tr>\n",
       "      <th>...</th>\n",
       "      <td>...</td>\n",
       "      <td>...</td>\n",
       "      <td>...</td>\n",
       "      <td>...</td>\n",
       "    </tr>\n",
       "    <tr>\n",
       "      <th>59995</th>\n",
       "      <td>&lt;p&gt;I try to multiply an integer by a double bu...</td>\n",
       "      <td>&lt;c++&gt;</td>\n",
       "      <td>0</td>\n",
       "      <td>C++ The correct way to multiply an integer and...</td>\n",
       "    </tr>\n",
       "    <tr>\n",
       "      <th>59996</th>\n",
       "      <td>&lt;p&gt;I'm very new to programming and I'm teachin...</td>\n",
       "      <td>&lt;c#&gt;&lt;visual-studio&gt;</td>\n",
       "      <td>0</td>\n",
       "      <td>How can I make a c# application outside of vis...</td>\n",
       "    </tr>\n",
       "    <tr>\n",
       "      <th>59997</th>\n",
       "      <td>*URLS.PY*\\r\\n    //URLS.PY FILE\\r\\n    fro...</td>\n",
       "      <td>&lt;django&gt;&lt;django-views&gt;&lt;django-templates&gt;</td>\n",
       "      <td>1</td>\n",
       "      <td>WHY DJANGO IS SHOWING ME THIS ERROR WHEN I TRY...</td>\n",
       "    </tr>\n",
       "    <tr>\n",
       "      <th>59998</th>\n",
       "      <td>&lt;p&gt;I have a controller inside which a server i...</td>\n",
       "      <td>&lt;javascript&gt;&lt;php&gt;&lt;html&gt;</td>\n",
       "      <td>0</td>\n",
       "      <td>PHP - getting the content of php page &lt;p&gt;I hav...</td>\n",
       "    </tr>\n",
       "    <tr>\n",
       "      <th>59999</th>\n",
       "      <td>&lt;p&gt;So i was recently helping someone out with ...</td>\n",
       "      <td>&lt;c++&gt;&lt;overloading&gt;&lt;return-type&gt;</td>\n",
       "      <td>0</td>\n",
       "      <td>Why can't overloaded functions vary only by re...</td>\n",
       "    </tr>\n",
       "  </tbody>\n",
       "</table>\n",
       "<p>60000 rows × 4 columns</p>\n",
       "</div>"
      ],
      "text/plain": [
       "                                                    Body  \\\n",
       "0      <p>I'm already familiar with repeating tasks e...   \n",
       "1      I am having 4 different tables like \\r\\nselect...   \n",
       "2      <p>I'd like to understand why Java 8 Optionals...   \n",
       "3      <p>I am attempting to overlay a title over an ...   \n",
       "4      <p>The question is very simple, but I just cou...   \n",
       "...                                                  ...   \n",
       "59995  <p>I try to multiply an integer by a double bu...   \n",
       "59996  <p>I'm very new to programming and I'm teachin...   \n",
       "59997      *URLS.PY*\\r\\n    //URLS.PY FILE\\r\\n    fro...   \n",
       "59998  <p>I have a controller inside which a server i...   \n",
       "59999  <p>So i was recently helping someone out with ...   \n",
       "\n",
       "                                                    Tags  Y  \\\n",
       "0                                         <java><repeat>  0   \n",
       "1                                      <sql><sql-server>  1   \n",
       "2                                       <java><optional>  2   \n",
       "3      <javascript><image><overlay><react-native><opa...  2   \n",
       "4      <swift><operators><whitespace><ternary-operato...  2   \n",
       "...                                                  ... ..   \n",
       "59995                                              <c++>  0   \n",
       "59996                                <c#><visual-studio>  0   \n",
       "59997           <django><django-views><django-templates>  1   \n",
       "59998                            <javascript><php><html>  0   \n",
       "59999                    <c++><overloading><return-type>  0   \n",
       "\n",
       "                                                    text  \n",
       "0      Java: Repeat Task Every Random Seconds <p>I'm ...  \n",
       "1      How to get all the child records from differen...  \n",
       "2      Why are Java Optionals immutable? <p>I'd like ...  \n",
       "3      Text Overlay Image with Darkened Opacity React...  \n",
       "4      Why ternary operator in swift is so picky? <p>...  \n",
       "...                                                  ...  \n",
       "59995  C++ The correct way to multiply an integer and...  \n",
       "59996  How can I make a c# application outside of vis...  \n",
       "59997  WHY DJANGO IS SHOWING ME THIS ERROR WHEN I TRY...  \n",
       "59998  PHP - getting the content of php page <p>I hav...  \n",
       "59999  Why can't overloaded functions vary only by re...  \n",
       "\n",
       "[60000 rows x 4 columns]"
      ]
     },
     "execution_count": 6,
     "metadata": {},
     "output_type": "execute_result"
    }
   ],
   "source": [
    "df['text'] = df['Title'] + ' ' + df['Body']\n",
    "df = df.drop(['Id', 'Title', 'CreationDate'], axis = 1)\n",
    "\n",
    "df"
   ]
  },
  {
   "cell_type": "code",
   "execution_count": 7,
   "metadata": {},
   "outputs": [],
   "source": [
    "nlp = spacy.load('en', disable=['ner', 'parser'])\n",
    "\n",
    "def cleaning(doc):\n",
    "    #remove stopwords + Lemmitze them \n",
    "    txt = [token.lemma_ for token in doc if not token.is_stop]\n",
    "    \n",
    "    if len(txt)>2:\n",
    "        return ' '.join(txt)"
   ]
  },
  {
   "cell_type": "code",
   "execution_count": 9,
   "metadata": {},
   "outputs": [],
   "source": [
    "init_cleaning = (re.sub(\"[^A-Za-z]+\",' ',str(row)).lower() for row in df['text'])"
   ]
  },
  {
   "cell_type": "code",
   "execution_count": 12,
   "metadata": {},
   "outputs": [
    {
     "ename": "KeyboardInterrupt",
     "evalue": "",
     "output_type": "error",
     "traceback": [
      "\u001b[1;31m---------------------------------------------------------------------------\u001b[0m",
      "\u001b[1;31mKeyboardInterrupt\u001b[0m                         Traceback (most recent call last)",
      "\u001b[1;32m<ipython-input-12-253f7b1f8da8>\u001b[0m in \u001b[0;36m<module>\u001b[1;34m\u001b[0m\n\u001b[0;32m      2\u001b[0m \u001b[1;33m\u001b[0m\u001b[0m\n\u001b[0;32m      3\u001b[0m \u001b[1;31m#batch size used if a document is having words more than 5000 treat it as a seperate doc\u001b[0m\u001b[1;33m\u001b[0m\u001b[1;33m\u001b[0m\u001b[1;33m\u001b[0m\u001b[0m\n\u001b[1;32m----> 4\u001b[1;33m \u001b[0mtxt\u001b[0m \u001b[1;33m=\u001b[0m \u001b[1;33m[\u001b[0m\u001b[0mcleaning\u001b[0m\u001b[1;33m(\u001b[0m\u001b[0mdoc\u001b[0m\u001b[1;33m)\u001b[0m \u001b[1;32mfor\u001b[0m \u001b[0mdoc\u001b[0m \u001b[1;32min\u001b[0m \u001b[0mnlp\u001b[0m\u001b[1;33m.\u001b[0m\u001b[0mpipe\u001b[0m\u001b[1;33m(\u001b[0m\u001b[0minit_cleaning\u001b[0m\u001b[1;33m,\u001b[0m\u001b[0mbatch_size\u001b[0m\u001b[1;33m=\u001b[0m\u001b[1;36m5000\u001b[0m\u001b[1;33m,\u001b[0m\u001b[0mn_threads\u001b[0m\u001b[1;33m=\u001b[0m\u001b[1;33m-\u001b[0m\u001b[1;36m1\u001b[0m\u001b[1;33m)\u001b[0m\u001b[1;33m]\u001b[0m\u001b[1;33m\u001b[0m\u001b[1;33m\u001b[0m\u001b[0m\n\u001b[0m\u001b[0;32m      5\u001b[0m \u001b[1;33m\u001b[0m\u001b[0m\n\u001b[0;32m      6\u001b[0m \u001b[0mprint\u001b[0m\u001b[1;33m(\u001b[0m\u001b[1;34m'Time too clean up everything: {} mins'\u001b[0m\u001b[1;33m.\u001b[0m\u001b[0mformat\u001b[0m\u001b[1;33m(\u001b[0m\u001b[0mround\u001b[0m\u001b[1;33m(\u001b[0m\u001b[1;33m(\u001b[0m\u001b[0mtime\u001b[0m\u001b[1;33m(\u001b[0m\u001b[1;33m)\u001b[0m \u001b[1;33m-\u001b[0m \u001b[0mt\u001b[0m\u001b[1;33m)\u001b[0m\u001b[1;33m/\u001b[0m\u001b[1;36m60\u001b[0m\u001b[1;33m,\u001b[0m\u001b[1;36m2\u001b[0m\u001b[1;33m)\u001b[0m\u001b[1;33m)\u001b[0m\u001b[1;33m)\u001b[0m\u001b[1;33m\u001b[0m\u001b[1;33m\u001b[0m\u001b[0m\n",
      "\u001b[1;32m<ipython-input-12-253f7b1f8da8>\u001b[0m in \u001b[0;36m<listcomp>\u001b[1;34m(.0)\u001b[0m\n\u001b[0;32m      2\u001b[0m \u001b[1;33m\u001b[0m\u001b[0m\n\u001b[0;32m      3\u001b[0m \u001b[1;31m#batch size used if a document is having words more than 5000 treat it as a seperate doc\u001b[0m\u001b[1;33m\u001b[0m\u001b[1;33m\u001b[0m\u001b[1;33m\u001b[0m\u001b[0m\n\u001b[1;32m----> 4\u001b[1;33m \u001b[0mtxt\u001b[0m \u001b[1;33m=\u001b[0m \u001b[1;33m[\u001b[0m\u001b[0mcleaning\u001b[0m\u001b[1;33m(\u001b[0m\u001b[0mdoc\u001b[0m\u001b[1;33m)\u001b[0m \u001b[1;32mfor\u001b[0m \u001b[0mdoc\u001b[0m \u001b[1;32min\u001b[0m \u001b[0mnlp\u001b[0m\u001b[1;33m.\u001b[0m\u001b[0mpipe\u001b[0m\u001b[1;33m(\u001b[0m\u001b[0minit_cleaning\u001b[0m\u001b[1;33m,\u001b[0m\u001b[0mbatch_size\u001b[0m\u001b[1;33m=\u001b[0m\u001b[1;36m5000\u001b[0m\u001b[1;33m,\u001b[0m\u001b[0mn_threads\u001b[0m\u001b[1;33m=\u001b[0m\u001b[1;33m-\u001b[0m\u001b[1;36m1\u001b[0m\u001b[1;33m)\u001b[0m\u001b[1;33m]\u001b[0m\u001b[1;33m\u001b[0m\u001b[1;33m\u001b[0m\u001b[0m\n\u001b[0m\u001b[0;32m      5\u001b[0m \u001b[1;33m\u001b[0m\u001b[0m\n\u001b[0;32m      6\u001b[0m \u001b[0mprint\u001b[0m\u001b[1;33m(\u001b[0m\u001b[1;34m'Time too clean up everything: {} mins'\u001b[0m\u001b[1;33m.\u001b[0m\u001b[0mformat\u001b[0m\u001b[1;33m(\u001b[0m\u001b[0mround\u001b[0m\u001b[1;33m(\u001b[0m\u001b[1;33m(\u001b[0m\u001b[0mtime\u001b[0m\u001b[1;33m(\u001b[0m\u001b[1;33m)\u001b[0m \u001b[1;33m-\u001b[0m \u001b[0mt\u001b[0m\u001b[1;33m)\u001b[0m\u001b[1;33m/\u001b[0m\u001b[1;36m60\u001b[0m\u001b[1;33m,\u001b[0m\u001b[1;36m2\u001b[0m\u001b[1;33m)\u001b[0m\u001b[1;33m)\u001b[0m\u001b[1;33m)\u001b[0m\u001b[1;33m\u001b[0m\u001b[1;33m\u001b[0m\u001b[0m\n",
      "\u001b[1;32m~\\.conda\\envs\\Machine_Learning\\lib\\site-packages\\spacy\\language.py\u001b[0m in \u001b[0;36mpipe\u001b[1;34m(self, texts, as_tuples, n_threads, batch_size, disable, cleanup, component_cfg, n_process)\u001b[0m\n\u001b[0;32m    827\u001b[0m         \u001b[0moriginal_strings_data\u001b[0m \u001b[1;33m=\u001b[0m \u001b[1;32mNone\u001b[0m\u001b[1;33m\u001b[0m\u001b[1;33m\u001b[0m\u001b[0m\n\u001b[0;32m    828\u001b[0m         \u001b[0mnr_seen\u001b[0m \u001b[1;33m=\u001b[0m \u001b[1;36m0\u001b[0m\u001b[1;33m\u001b[0m\u001b[1;33m\u001b[0m\u001b[0m\n\u001b[1;32m--> 829\u001b[1;33m         \u001b[1;32mfor\u001b[0m \u001b[0mdoc\u001b[0m \u001b[1;32min\u001b[0m \u001b[0mdocs\u001b[0m\u001b[1;33m:\u001b[0m\u001b[1;33m\u001b[0m\u001b[1;33m\u001b[0m\u001b[0m\n\u001b[0m\u001b[0;32m    830\u001b[0m             \u001b[1;32myield\u001b[0m \u001b[0mdoc\u001b[0m\u001b[1;33m\u001b[0m\u001b[1;33m\u001b[0m\u001b[0m\n\u001b[0;32m    831\u001b[0m             \u001b[1;32mif\u001b[0m \u001b[0mcleanup\u001b[0m\u001b[1;33m:\u001b[0m\u001b[1;33m\u001b[0m\u001b[1;33m\u001b[0m\u001b[0m\n",
      "\u001b[1;32mpipes.pyx\u001b[0m in \u001b[0;36mpipe\u001b[1;34m()\u001b[0m\n",
      "\u001b[1;32mpipes.pyx\u001b[0m in \u001b[0;36mspacy.pipeline.pipes.Tagger.predict\u001b[1;34m()\u001b[0m\n",
      "\u001b[1;32m~\\.conda\\envs\\Machine_Learning\\lib\\site-packages\\thinc\\neural\\_classes\\model.py\u001b[0m in \u001b[0;36m__call__\u001b[1;34m(self, x)\u001b[0m\n\u001b[0;32m    165\u001b[0m             \u001b[0mMust\u001b[0m \u001b[0mmatch\u001b[0m \u001b[0mexpected\u001b[0m \u001b[0mshape\u001b[0m\u001b[1;33m\u001b[0m\u001b[1;33m\u001b[0m\u001b[0m\n\u001b[0;32m    166\u001b[0m         \"\"\"\n\u001b[1;32m--> 167\u001b[1;33m         \u001b[1;32mreturn\u001b[0m \u001b[0mself\u001b[0m\u001b[1;33m.\u001b[0m\u001b[0mpredict\u001b[0m\u001b[1;33m(\u001b[0m\u001b[0mx\u001b[0m\u001b[1;33m)\u001b[0m\u001b[1;33m\u001b[0m\u001b[1;33m\u001b[0m\u001b[0m\n\u001b[0m\u001b[0;32m    168\u001b[0m \u001b[1;33m\u001b[0m\u001b[0m\n\u001b[0;32m    169\u001b[0m     \u001b[1;32mdef\u001b[0m \u001b[0mpipe\u001b[0m\u001b[1;33m(\u001b[0m\u001b[0mself\u001b[0m\u001b[1;33m,\u001b[0m \u001b[0mstream\u001b[0m\u001b[1;33m,\u001b[0m \u001b[0mbatch_size\u001b[0m\u001b[1;33m=\u001b[0m\u001b[1;36m128\u001b[0m\u001b[1;33m)\u001b[0m\u001b[1;33m:\u001b[0m\u001b[1;33m\u001b[0m\u001b[1;33m\u001b[0m\u001b[0m\n",
      "\u001b[1;32m~\\.conda\\envs\\Machine_Learning\\lib\\site-packages\\thinc\\neural\\_classes\\feed_forward.py\u001b[0m in \u001b[0;36mpredict\u001b[1;34m(self, X)\u001b[0m\n\u001b[0;32m     38\u001b[0m     \u001b[1;32mdef\u001b[0m \u001b[0mpredict\u001b[0m\u001b[1;33m(\u001b[0m\u001b[0mself\u001b[0m\u001b[1;33m,\u001b[0m \u001b[0mX\u001b[0m\u001b[1;33m)\u001b[0m\u001b[1;33m:\u001b[0m\u001b[1;33m\u001b[0m\u001b[1;33m\u001b[0m\u001b[0m\n\u001b[0;32m     39\u001b[0m         \u001b[1;32mfor\u001b[0m \u001b[0mlayer\u001b[0m \u001b[1;32min\u001b[0m \u001b[0mself\u001b[0m\u001b[1;33m.\u001b[0m\u001b[0m_layers\u001b[0m\u001b[1;33m:\u001b[0m\u001b[1;33m\u001b[0m\u001b[1;33m\u001b[0m\u001b[0m\n\u001b[1;32m---> 40\u001b[1;33m             \u001b[0mX\u001b[0m \u001b[1;33m=\u001b[0m \u001b[0mlayer\u001b[0m\u001b[1;33m(\u001b[0m\u001b[0mX\u001b[0m\u001b[1;33m)\u001b[0m\u001b[1;33m\u001b[0m\u001b[1;33m\u001b[0m\u001b[0m\n\u001b[0m\u001b[0;32m     41\u001b[0m         \u001b[1;32mreturn\u001b[0m \u001b[0mX\u001b[0m\u001b[1;33m\u001b[0m\u001b[1;33m\u001b[0m\u001b[0m\n\u001b[0;32m     42\u001b[0m \u001b[1;33m\u001b[0m\u001b[0m\n",
      "\u001b[1;32m~\\.conda\\envs\\Machine_Learning\\lib\\site-packages\\thinc\\neural\\_classes\\model.py\u001b[0m in \u001b[0;36m__call__\u001b[1;34m(self, x)\u001b[0m\n\u001b[0;32m    165\u001b[0m             \u001b[0mMust\u001b[0m \u001b[0mmatch\u001b[0m \u001b[0mexpected\u001b[0m \u001b[0mshape\u001b[0m\u001b[1;33m\u001b[0m\u001b[1;33m\u001b[0m\u001b[0m\n\u001b[0;32m    166\u001b[0m         \"\"\"\n\u001b[1;32m--> 167\u001b[1;33m         \u001b[1;32mreturn\u001b[0m \u001b[0mself\u001b[0m\u001b[1;33m.\u001b[0m\u001b[0mpredict\u001b[0m\u001b[1;33m(\u001b[0m\u001b[0mx\u001b[0m\u001b[1;33m)\u001b[0m\u001b[1;33m\u001b[0m\u001b[1;33m\u001b[0m\u001b[0m\n\u001b[0m\u001b[0;32m    168\u001b[0m \u001b[1;33m\u001b[0m\u001b[0m\n\u001b[0;32m    169\u001b[0m     \u001b[1;32mdef\u001b[0m \u001b[0mpipe\u001b[0m\u001b[1;33m(\u001b[0m\u001b[0mself\u001b[0m\u001b[1;33m,\u001b[0m \u001b[0mstream\u001b[0m\u001b[1;33m,\u001b[0m \u001b[0mbatch_size\u001b[0m\u001b[1;33m=\u001b[0m\u001b[1;36m128\u001b[0m\u001b[1;33m)\u001b[0m\u001b[1;33m:\u001b[0m\u001b[1;33m\u001b[0m\u001b[1;33m\u001b[0m\u001b[0m\n",
      "\u001b[1;32m~\\.conda\\envs\\Machine_Learning\\lib\\site-packages\\thinc\\api.py\u001b[0m in \u001b[0;36mpredict\u001b[1;34m(seqs_in)\u001b[0m\n\u001b[0;32m    308\u001b[0m     \u001b[1;32mdef\u001b[0m \u001b[0mpredict\u001b[0m\u001b[1;33m(\u001b[0m\u001b[0mseqs_in\u001b[0m\u001b[1;33m)\u001b[0m\u001b[1;33m:\u001b[0m\u001b[1;33m\u001b[0m\u001b[1;33m\u001b[0m\u001b[0m\n\u001b[0;32m    309\u001b[0m         \u001b[0mlengths\u001b[0m \u001b[1;33m=\u001b[0m \u001b[0mlayer\u001b[0m\u001b[1;33m.\u001b[0m\u001b[0mops\u001b[0m\u001b[1;33m.\u001b[0m\u001b[0masarray\u001b[0m\u001b[1;33m(\u001b[0m\u001b[1;33m[\u001b[0m\u001b[0mlen\u001b[0m\u001b[1;33m(\u001b[0m\u001b[0mseq\u001b[0m\u001b[1;33m)\u001b[0m \u001b[1;32mfor\u001b[0m \u001b[0mseq\u001b[0m \u001b[1;32min\u001b[0m \u001b[0mseqs_in\u001b[0m\u001b[1;33m]\u001b[0m\u001b[1;33m)\u001b[0m\u001b[1;33m\u001b[0m\u001b[1;33m\u001b[0m\u001b[0m\n\u001b[1;32m--> 310\u001b[1;33m         \u001b[0mX\u001b[0m \u001b[1;33m=\u001b[0m \u001b[0mlayer\u001b[0m\u001b[1;33m(\u001b[0m\u001b[0mlayer\u001b[0m\u001b[1;33m.\u001b[0m\u001b[0mops\u001b[0m\u001b[1;33m.\u001b[0m\u001b[0mflatten\u001b[0m\u001b[1;33m(\u001b[0m\u001b[0mseqs_in\u001b[0m\u001b[1;33m,\u001b[0m \u001b[0mpad\u001b[0m\u001b[1;33m=\u001b[0m\u001b[0mpad\u001b[0m\u001b[1;33m)\u001b[0m\u001b[1;33m)\u001b[0m\u001b[1;33m\u001b[0m\u001b[1;33m\u001b[0m\u001b[0m\n\u001b[0m\u001b[0;32m    311\u001b[0m         \u001b[1;32mreturn\u001b[0m \u001b[0mlayer\u001b[0m\u001b[1;33m.\u001b[0m\u001b[0mops\u001b[0m\u001b[1;33m.\u001b[0m\u001b[0munflatten\u001b[0m\u001b[1;33m(\u001b[0m\u001b[0mX\u001b[0m\u001b[1;33m,\u001b[0m \u001b[0mlengths\u001b[0m\u001b[1;33m,\u001b[0m \u001b[0mpad\u001b[0m\u001b[1;33m=\u001b[0m\u001b[0mpad\u001b[0m\u001b[1;33m)\u001b[0m\u001b[1;33m\u001b[0m\u001b[1;33m\u001b[0m\u001b[0m\n\u001b[0;32m    312\u001b[0m \u001b[1;33m\u001b[0m\u001b[0m\n",
      "\u001b[1;32m~\\.conda\\envs\\Machine_Learning\\lib\\site-packages\\thinc\\neural\\_classes\\model.py\u001b[0m in \u001b[0;36m__call__\u001b[1;34m(self, x)\u001b[0m\n\u001b[0;32m    165\u001b[0m             \u001b[0mMust\u001b[0m \u001b[0mmatch\u001b[0m \u001b[0mexpected\u001b[0m \u001b[0mshape\u001b[0m\u001b[1;33m\u001b[0m\u001b[1;33m\u001b[0m\u001b[0m\n\u001b[0;32m    166\u001b[0m         \"\"\"\n\u001b[1;32m--> 167\u001b[1;33m         \u001b[1;32mreturn\u001b[0m \u001b[0mself\u001b[0m\u001b[1;33m.\u001b[0m\u001b[0mpredict\u001b[0m\u001b[1;33m(\u001b[0m\u001b[0mx\u001b[0m\u001b[1;33m)\u001b[0m\u001b[1;33m\u001b[0m\u001b[1;33m\u001b[0m\u001b[0m\n\u001b[0m\u001b[0;32m    168\u001b[0m \u001b[1;33m\u001b[0m\u001b[0m\n\u001b[0;32m    169\u001b[0m     \u001b[1;32mdef\u001b[0m \u001b[0mpipe\u001b[0m\u001b[1;33m(\u001b[0m\u001b[0mself\u001b[0m\u001b[1;33m,\u001b[0m \u001b[0mstream\u001b[0m\u001b[1;33m,\u001b[0m \u001b[0mbatch_size\u001b[0m\u001b[1;33m=\u001b[0m\u001b[1;36m128\u001b[0m\u001b[1;33m)\u001b[0m\u001b[1;33m:\u001b[0m\u001b[1;33m\u001b[0m\u001b[1;33m\u001b[0m\u001b[0m\n",
      "\u001b[1;32m~\\.conda\\envs\\Machine_Learning\\lib\\site-packages\\thinc\\neural\\_classes\\feed_forward.py\u001b[0m in \u001b[0;36mpredict\u001b[1;34m(self, X)\u001b[0m\n\u001b[0;32m     38\u001b[0m     \u001b[1;32mdef\u001b[0m \u001b[0mpredict\u001b[0m\u001b[1;33m(\u001b[0m\u001b[0mself\u001b[0m\u001b[1;33m,\u001b[0m \u001b[0mX\u001b[0m\u001b[1;33m)\u001b[0m\u001b[1;33m:\u001b[0m\u001b[1;33m\u001b[0m\u001b[1;33m\u001b[0m\u001b[0m\n\u001b[0;32m     39\u001b[0m         \u001b[1;32mfor\u001b[0m \u001b[0mlayer\u001b[0m \u001b[1;32min\u001b[0m \u001b[0mself\u001b[0m\u001b[1;33m.\u001b[0m\u001b[0m_layers\u001b[0m\u001b[1;33m:\u001b[0m\u001b[1;33m\u001b[0m\u001b[1;33m\u001b[0m\u001b[0m\n\u001b[1;32m---> 40\u001b[1;33m             \u001b[0mX\u001b[0m \u001b[1;33m=\u001b[0m \u001b[0mlayer\u001b[0m\u001b[1;33m(\u001b[0m\u001b[0mX\u001b[0m\u001b[1;33m)\u001b[0m\u001b[1;33m\u001b[0m\u001b[1;33m\u001b[0m\u001b[0m\n\u001b[0m\u001b[0;32m     41\u001b[0m         \u001b[1;32mreturn\u001b[0m \u001b[0mX\u001b[0m\u001b[1;33m\u001b[0m\u001b[1;33m\u001b[0m\u001b[0m\n\u001b[0;32m     42\u001b[0m \u001b[1;33m\u001b[0m\u001b[0m\n",
      "\u001b[1;32m~\\.conda\\envs\\Machine_Learning\\lib\\site-packages\\thinc\\neural\\_classes\\model.py\u001b[0m in \u001b[0;36m__call__\u001b[1;34m(self, x)\u001b[0m\n\u001b[0;32m    165\u001b[0m             \u001b[0mMust\u001b[0m \u001b[0mmatch\u001b[0m \u001b[0mexpected\u001b[0m \u001b[0mshape\u001b[0m\u001b[1;33m\u001b[0m\u001b[1;33m\u001b[0m\u001b[0m\n\u001b[0;32m    166\u001b[0m         \"\"\"\n\u001b[1;32m--> 167\u001b[1;33m         \u001b[1;32mreturn\u001b[0m \u001b[0mself\u001b[0m\u001b[1;33m.\u001b[0m\u001b[0mpredict\u001b[0m\u001b[1;33m(\u001b[0m\u001b[0mx\u001b[0m\u001b[1;33m)\u001b[0m\u001b[1;33m\u001b[0m\u001b[1;33m\u001b[0m\u001b[0m\n\u001b[0m\u001b[0;32m    168\u001b[0m \u001b[1;33m\u001b[0m\u001b[0m\n\u001b[0;32m    169\u001b[0m     \u001b[1;32mdef\u001b[0m \u001b[0mpipe\u001b[0m\u001b[1;33m(\u001b[0m\u001b[0mself\u001b[0m\u001b[1;33m,\u001b[0m \u001b[0mstream\u001b[0m\u001b[1;33m,\u001b[0m \u001b[0mbatch_size\u001b[0m\u001b[1;33m=\u001b[0m\u001b[1;36m128\u001b[0m\u001b[1;33m)\u001b[0m\u001b[1;33m:\u001b[0m\u001b[1;33m\u001b[0m\u001b[1;33m\u001b[0m\u001b[0m\n",
      "\u001b[1;32m~\\.conda\\envs\\Machine_Learning\\lib\\site-packages\\thinc\\neural\\_classes\\resnet.py\u001b[0m in \u001b[0;36mpredict\u001b[1;34m(self, X)\u001b[0m\n\u001b[0;32m     16\u001b[0m \u001b[1;33m\u001b[0m\u001b[0m\n\u001b[0;32m     17\u001b[0m     \u001b[1;32mdef\u001b[0m \u001b[0mpredict\u001b[0m\u001b[1;33m(\u001b[0m\u001b[0mself\u001b[0m\u001b[1;33m,\u001b[0m \u001b[0mX\u001b[0m\u001b[1;33m)\u001b[0m\u001b[1;33m:\u001b[0m\u001b[1;33m\u001b[0m\u001b[1;33m\u001b[0m\u001b[0m\n\u001b[1;32m---> 18\u001b[1;33m         \u001b[0mY\u001b[0m \u001b[1;33m=\u001b[0m \u001b[0mself\u001b[0m\u001b[1;33m.\u001b[0m\u001b[0m_layers\u001b[0m\u001b[1;33m[\u001b[0m\u001b[1;36m0\u001b[0m\u001b[1;33m]\u001b[0m\u001b[1;33m(\u001b[0m\u001b[0mX\u001b[0m\u001b[1;33m)\u001b[0m\u001b[1;33m\u001b[0m\u001b[1;33m\u001b[0m\u001b[0m\n\u001b[0m\u001b[0;32m     19\u001b[0m         \u001b[1;32mif\u001b[0m \u001b[0misinstance\u001b[0m\u001b[1;33m(\u001b[0m\u001b[0mX\u001b[0m\u001b[1;33m,\u001b[0m \u001b[0mlist\u001b[0m\u001b[1;33m)\u001b[0m \u001b[1;32mor\u001b[0m \u001b[0misinstance\u001b[0m\u001b[1;33m(\u001b[0m\u001b[0mX\u001b[0m\u001b[1;33m,\u001b[0m \u001b[0mtuple\u001b[0m\u001b[1;33m)\u001b[0m\u001b[1;33m:\u001b[0m\u001b[1;33m\u001b[0m\u001b[1;33m\u001b[0m\u001b[0m\n\u001b[0;32m     20\u001b[0m             \u001b[1;32mreturn\u001b[0m \u001b[1;33m[\u001b[0m\u001b[0mX\u001b[0m\u001b[1;33m[\u001b[0m\u001b[0mi\u001b[0m\u001b[1;33m]\u001b[0m \u001b[1;33m+\u001b[0m \u001b[0mY\u001b[0m\u001b[1;33m[\u001b[0m\u001b[0mi\u001b[0m\u001b[1;33m]\u001b[0m \u001b[1;32mfor\u001b[0m \u001b[0mi\u001b[0m \u001b[1;32min\u001b[0m \u001b[0mrange\u001b[0m\u001b[1;33m(\u001b[0m\u001b[0mlen\u001b[0m\u001b[1;33m(\u001b[0m\u001b[0mX\u001b[0m\u001b[1;33m)\u001b[0m\u001b[1;33m)\u001b[0m\u001b[1;33m]\u001b[0m\u001b[1;33m\u001b[0m\u001b[1;33m\u001b[0m\u001b[0m\n",
      "\u001b[1;32m~\\.conda\\envs\\Machine_Learning\\lib\\site-packages\\thinc\\neural\\_classes\\model.py\u001b[0m in \u001b[0;36m__call__\u001b[1;34m(self, x)\u001b[0m\n\u001b[0;32m    165\u001b[0m             \u001b[0mMust\u001b[0m \u001b[0mmatch\u001b[0m \u001b[0mexpected\u001b[0m \u001b[0mshape\u001b[0m\u001b[1;33m\u001b[0m\u001b[1;33m\u001b[0m\u001b[0m\n\u001b[0;32m    166\u001b[0m         \"\"\"\n\u001b[1;32m--> 167\u001b[1;33m         \u001b[1;32mreturn\u001b[0m \u001b[0mself\u001b[0m\u001b[1;33m.\u001b[0m\u001b[0mpredict\u001b[0m\u001b[1;33m(\u001b[0m\u001b[0mx\u001b[0m\u001b[1;33m)\u001b[0m\u001b[1;33m\u001b[0m\u001b[1;33m\u001b[0m\u001b[0m\n\u001b[0m\u001b[0;32m    168\u001b[0m \u001b[1;33m\u001b[0m\u001b[0m\n\u001b[0;32m    169\u001b[0m     \u001b[1;32mdef\u001b[0m \u001b[0mpipe\u001b[0m\u001b[1;33m(\u001b[0m\u001b[0mself\u001b[0m\u001b[1;33m,\u001b[0m \u001b[0mstream\u001b[0m\u001b[1;33m,\u001b[0m \u001b[0mbatch_size\u001b[0m\u001b[1;33m=\u001b[0m\u001b[1;36m128\u001b[0m\u001b[1;33m)\u001b[0m\u001b[1;33m:\u001b[0m\u001b[1;33m\u001b[0m\u001b[1;33m\u001b[0m\u001b[0m\n",
      "\u001b[1;32m~\\.conda\\envs\\Machine_Learning\\lib\\site-packages\\thinc\\neural\\_classes\\feed_forward.py\u001b[0m in \u001b[0;36mpredict\u001b[1;34m(self, X)\u001b[0m\n\u001b[0;32m     38\u001b[0m     \u001b[1;32mdef\u001b[0m \u001b[0mpredict\u001b[0m\u001b[1;33m(\u001b[0m\u001b[0mself\u001b[0m\u001b[1;33m,\u001b[0m \u001b[0mX\u001b[0m\u001b[1;33m)\u001b[0m\u001b[1;33m:\u001b[0m\u001b[1;33m\u001b[0m\u001b[1;33m\u001b[0m\u001b[0m\n\u001b[0;32m     39\u001b[0m         \u001b[1;32mfor\u001b[0m \u001b[0mlayer\u001b[0m \u001b[1;32min\u001b[0m \u001b[0mself\u001b[0m\u001b[1;33m.\u001b[0m\u001b[0m_layers\u001b[0m\u001b[1;33m:\u001b[0m\u001b[1;33m\u001b[0m\u001b[1;33m\u001b[0m\u001b[0m\n\u001b[1;32m---> 40\u001b[1;33m             \u001b[0mX\u001b[0m \u001b[1;33m=\u001b[0m \u001b[0mlayer\u001b[0m\u001b[1;33m(\u001b[0m\u001b[0mX\u001b[0m\u001b[1;33m)\u001b[0m\u001b[1;33m\u001b[0m\u001b[1;33m\u001b[0m\u001b[0m\n\u001b[0m\u001b[0;32m     41\u001b[0m         \u001b[1;32mreturn\u001b[0m \u001b[0mX\u001b[0m\u001b[1;33m\u001b[0m\u001b[1;33m\u001b[0m\u001b[0m\n\u001b[0;32m     42\u001b[0m \u001b[1;33m\u001b[0m\u001b[0m\n",
      "\u001b[1;32m~\\.conda\\envs\\Machine_Learning\\lib\\site-packages\\thinc\\neural\\_classes\\model.py\u001b[0m in \u001b[0;36m__call__\u001b[1;34m(self, x)\u001b[0m\n\u001b[0;32m    165\u001b[0m             \u001b[0mMust\u001b[0m \u001b[0mmatch\u001b[0m \u001b[0mexpected\u001b[0m \u001b[0mshape\u001b[0m\u001b[1;33m\u001b[0m\u001b[1;33m\u001b[0m\u001b[0m\n\u001b[0;32m    166\u001b[0m         \"\"\"\n\u001b[1;32m--> 167\u001b[1;33m         \u001b[1;32mreturn\u001b[0m \u001b[0mself\u001b[0m\u001b[1;33m.\u001b[0m\u001b[0mpredict\u001b[0m\u001b[1;33m(\u001b[0m\u001b[0mx\u001b[0m\u001b[1;33m)\u001b[0m\u001b[1;33m\u001b[0m\u001b[1;33m\u001b[0m\u001b[0m\n\u001b[0m\u001b[0;32m    168\u001b[0m \u001b[1;33m\u001b[0m\u001b[0m\n\u001b[0;32m    169\u001b[0m     \u001b[1;32mdef\u001b[0m \u001b[0mpipe\u001b[0m\u001b[1;33m(\u001b[0m\u001b[0mself\u001b[0m\u001b[1;33m,\u001b[0m \u001b[0mstream\u001b[0m\u001b[1;33m,\u001b[0m \u001b[0mbatch_size\u001b[0m\u001b[1;33m=\u001b[0m\u001b[1;36m128\u001b[0m\u001b[1;33m)\u001b[0m\u001b[1;33m:\u001b[0m\u001b[1;33m\u001b[0m\u001b[1;33m\u001b[0m\u001b[0m\n",
      "\u001b[1;32m~\\.conda\\envs\\Machine_Learning\\lib\\site-packages\\thinc\\neural\\_classes\\layernorm.py\u001b[0m in \u001b[0;36mpredict\u001b[1;34m(self, X)\u001b[0m\n\u001b[0;32m     52\u001b[0m             \u001b[1;32mreturn\u001b[0m \u001b[0mX\u001b[0m\u001b[1;33m\u001b[0m\u001b[1;33m\u001b[0m\u001b[0m\n\u001b[0;32m     53\u001b[0m         \u001b[1;32mif\u001b[0m \u001b[0mself\u001b[0m\u001b[1;33m.\u001b[0m\u001b[0mchild\u001b[0m \u001b[1;32mis\u001b[0m \u001b[1;32mnot\u001b[0m \u001b[1;32mNone\u001b[0m\u001b[1;33m:\u001b[0m\u001b[1;33m\u001b[0m\u001b[1;33m\u001b[0m\u001b[0m\n\u001b[1;32m---> 54\u001b[1;33m             \u001b[0mX\u001b[0m \u001b[1;33m=\u001b[0m \u001b[0mself\u001b[0m\u001b[1;33m.\u001b[0m\u001b[0mchild\u001b[0m\u001b[1;33m.\u001b[0m\u001b[0mpredict\u001b[0m\u001b[1;33m(\u001b[0m\u001b[0mX\u001b[0m\u001b[1;33m)\u001b[0m\u001b[1;33m\u001b[0m\u001b[1;33m\u001b[0m\u001b[0m\n\u001b[0m\u001b[0;32m     55\u001b[0m         \u001b[0mN\u001b[0m\u001b[1;33m,\u001b[0m \u001b[0mmu\u001b[0m\u001b[1;33m,\u001b[0m \u001b[0mvar\u001b[0m \u001b[1;33m=\u001b[0m \u001b[0m_get_moments\u001b[0m\u001b[1;33m(\u001b[0m\u001b[0mself\u001b[0m\u001b[1;33m.\u001b[0m\u001b[0mops\u001b[0m\u001b[1;33m,\u001b[0m \u001b[0mX\u001b[0m\u001b[1;33m)\u001b[0m\u001b[1;33m\u001b[0m\u001b[1;33m\u001b[0m\u001b[0m\n\u001b[0;32m     56\u001b[0m         \u001b[0mXh\u001b[0m \u001b[1;33m=\u001b[0m \u001b[0m_forward\u001b[0m\u001b[1;33m(\u001b[0m\u001b[0mself\u001b[0m\u001b[1;33m.\u001b[0m\u001b[0mops\u001b[0m\u001b[1;33m,\u001b[0m \u001b[0mX\u001b[0m\u001b[1;33m,\u001b[0m \u001b[0mmu\u001b[0m\u001b[1;33m,\u001b[0m \u001b[0mvar\u001b[0m\u001b[1;33m)\u001b[0m\u001b[1;33m\u001b[0m\u001b[1;33m\u001b[0m\u001b[0m\n",
      "\u001b[1;32m~\\.conda\\envs\\Machine_Learning\\lib\\site-packages\\thinc\\neural\\_classes\\maxout.py\u001b[0m in \u001b[0;36mpredict\u001b[1;34m(self, X__BI)\u001b[0m\n\u001b[0;32m     65\u001b[0m         \u001b[0mW\u001b[0m \u001b[1;33m=\u001b[0m \u001b[0mself\u001b[0m\u001b[1;33m.\u001b[0m\u001b[0mW\u001b[0m\u001b[1;33m.\u001b[0m\u001b[0mreshape\u001b[0m\u001b[1;33m(\u001b[0m\u001b[1;33m(\u001b[0m\u001b[0mself\u001b[0m\u001b[1;33m.\u001b[0m\u001b[0mnO\u001b[0m \u001b[1;33m*\u001b[0m \u001b[0mself\u001b[0m\u001b[1;33m.\u001b[0m\u001b[0mnP\u001b[0m\u001b[1;33m,\u001b[0m \u001b[0mself\u001b[0m\u001b[1;33m.\u001b[0m\u001b[0mnI\u001b[0m\u001b[1;33m)\u001b[0m\u001b[1;33m)\u001b[0m\u001b[1;33m\u001b[0m\u001b[1;33m\u001b[0m\u001b[0m\n\u001b[0;32m     66\u001b[0m         \u001b[0mX__BOP\u001b[0m \u001b[1;33m=\u001b[0m \u001b[0mself\u001b[0m\u001b[1;33m.\u001b[0m\u001b[0mops\u001b[0m\u001b[1;33m.\u001b[0m\u001b[0mgemm\u001b[0m\u001b[1;33m(\u001b[0m\u001b[0mX__BI\u001b[0m\u001b[1;33m,\u001b[0m \u001b[0mW\u001b[0m\u001b[1;33m,\u001b[0m \u001b[0mtrans2\u001b[0m\u001b[1;33m=\u001b[0m\u001b[1;32mTrue\u001b[0m\u001b[1;33m)\u001b[0m\u001b[1;33m\u001b[0m\u001b[1;33m\u001b[0m\u001b[0m\n\u001b[1;32m---> 67\u001b[1;33m         \u001b[0mX__BOP\u001b[0m \u001b[1;33m+=\u001b[0m \u001b[0mself\u001b[0m\u001b[1;33m.\u001b[0m\u001b[0mb\u001b[0m\u001b[1;33m.\u001b[0m\u001b[0mreshape\u001b[0m\u001b[1;33m(\u001b[0m\u001b[1;33m(\u001b[0m\u001b[0mself\u001b[0m\u001b[1;33m.\u001b[0m\u001b[0mnO\u001b[0m \u001b[1;33m*\u001b[0m \u001b[0mself\u001b[0m\u001b[1;33m.\u001b[0m\u001b[0mnP\u001b[0m\u001b[1;33m,\u001b[0m\u001b[1;33m)\u001b[0m\u001b[1;33m)\u001b[0m\u001b[1;33m\u001b[0m\u001b[1;33m\u001b[0m\u001b[0m\n\u001b[0m\u001b[0;32m     68\u001b[0m         \u001b[0mX__BOP\u001b[0m \u001b[1;33m=\u001b[0m \u001b[0mX__BOP\u001b[0m\u001b[1;33m.\u001b[0m\u001b[0mreshape\u001b[0m\u001b[1;33m(\u001b[0m\u001b[1;33m(\u001b[0m\u001b[0mX__BOP\u001b[0m\u001b[1;33m.\u001b[0m\u001b[0mshape\u001b[0m\u001b[1;33m[\u001b[0m\u001b[1;36m0\u001b[0m\u001b[1;33m]\u001b[0m\u001b[1;33m,\u001b[0m \u001b[0mself\u001b[0m\u001b[1;33m.\u001b[0m\u001b[0mnO\u001b[0m\u001b[1;33m,\u001b[0m \u001b[0mself\u001b[0m\u001b[1;33m.\u001b[0m\u001b[0mnP\u001b[0m\u001b[1;33m)\u001b[0m\u001b[1;33m)\u001b[0m\u001b[1;33m\u001b[0m\u001b[1;33m\u001b[0m\u001b[0m\n\u001b[0;32m     69\u001b[0m         \u001b[0mbest__BO\u001b[0m\u001b[1;33m,\u001b[0m \u001b[0m_\u001b[0m \u001b[1;33m=\u001b[0m \u001b[0mself\u001b[0m\u001b[1;33m.\u001b[0m\u001b[0mops\u001b[0m\u001b[1;33m.\u001b[0m\u001b[0mmaxout\u001b[0m\u001b[1;33m(\u001b[0m\u001b[0mX__BOP\u001b[0m\u001b[1;33m)\u001b[0m\u001b[1;33m\u001b[0m\u001b[1;33m\u001b[0m\u001b[0m\n",
      "\u001b[1;31mKeyboardInterrupt\u001b[0m: "
     ]
    }
   ],
   "source": [
    "t = time()\n",
    "\n",
    "txt = [cleaning(doc) for doc in nlp.pipe(init_cleaning,batch_size=5000,n_threads=-1)]\n",
    "\n",
    "print('Time too clean up everything: {} mins'.format(round((time() - t)/60,2)))"
   ]
  },
  {
   "cell_type": "code",
   "execution_count": null,
   "metadata": {},
   "outputs": [],
   "source": [
    "df_clean = pd.DataFrame({'clean':txt})\n",
    "df_clean = df_clean.dropna().drop_duplicates()\n",
    "df_clean.shape"
   ]
  },
  {
   "cell_type": "code",
   "execution_count": 10,
   "metadata": {
    "scrolled": false
   },
   "outputs": [
    {
     "data": {
      "text/plain": [
       "array(['Making a simple page responsive through CSS <p>I am using a simple half bootstrap / half designed by somebody login template. Now it opens just as it should through the web browser:</p>\\n\\n<p><a href=\"https://i.stack.imgur.com/lKZNP.jpg\" rel=\"nofollow noreferrer\"><img src=\"https://i.stack.imgur.com/lKZNP.jpg\" alt=\"enter image description here\"></a></p>\\n\\n<p>But when I open it through my mobile device it loads this way:</p>\\n\\n<p><a href=\"https://i.stack.imgur.com/Jhvsl.png\" rel=\"nofollow noreferrer\"><img src=\"https://i.stack.imgur.com/Jhvsl.png\" alt=\"enter image description here\"></a></p>\\n\\n<p>And I want it to open in a close-up way like that:</p>\\n\\n<p><a href=\"https://i.stack.imgur.com/D0YbC.png\" rel=\"nofollow noreferrer\"><img src=\"https://i.stack.imgur.com/D0YbC.png\" alt=\"enter image description here\"></a></p>\\n\\n<p>Now here are my html and css:</p>\\n\\n<p><div class=\"snippet\" data-lang=\"js\" data-hide=\"false\" data-console=\"false\" data-babel=\"false\">\\r\\n<div class=\"snippet-code\">\\r\\n<pre class=\"snippet-code-css lang-css prettyprint-override\"><code>body {\\r\\n  background: #eee !important;\\r\\n}\\r\\n\\r\\n.form-signin {\\r\\n  max-width: 380px;\\r\\n  padding: 15px 35px 30px;\\r\\n  margin: 20px auto;\\r\\n  background-color: #fff;\\r\\n  border: 1px round rgba(0, 0, 0, 0.1);\\r\\n}\\r\\n\\r\\n.form-signin .checkbox {\\r\\n  margin-bottom: 30px;\\r\\n}\\r\\n.form-signin .checkbox {\\r\\n  font-weight: normal;\\r\\n}\\r\\n.form-signin .form-control {\\r\\n  position: relative;\\r\\n  font-size: 16px;\\r\\n  height: auto;\\r\\n  padding: 10px;\\r\\n  -webkit-box-sizing: border-box;\\r\\n  -moz-box-sizing: border-box;\\r\\n  box-sizing: border-box;\\r\\n}\\r\\n.form-signin .form-control:focus {\\r\\n  z-index: 2;\\r\\n}\\r\\n.form-signin input[type=\"text\"] {\\r\\n  margin-bottom: -1px;\\r\\n  border-bottom-left-radius: 0;\\r\\n  border-bottom-right-radius: 0;\\r\\n}\\r\\n.form-signin input[type=\"password\"] {\\r\\n  margin-bottom: 20px;\\r\\n  border-top-left-radius: 0;\\r\\n  border-top-right-radius: 0;\\r\\n}\\r\\n.form-signin-heading {\\r\\n  color: #777;\\r\\n}\\r\\n\\r\\n.social-box{\\r\\n  margin: 0 auto;\\r\\n  padding: 20px 38px 0 38px;\\r\\n}\\r\\n.social-box a{\\r\\n  font-weight:bold;\\r\\n  font-size:18px;\\r\\n  padding:8px;\\r\\n}\\r\\n.social-box a i{\\r\\n  font-weight:bold;\\r\\n  font-size:20px;\\r\\n}\\r\\n.newborder {\\r\\n  border-bottom: 1px #ccc solid;\\r\\n  margin-top: 30px;\\r\\n  margin-bottom: 30px;\\r\\n}\\r\\n.omb_loginOr {\\r\\n  position: relative;\\r\\n  font-size: 1.5em;\\r\\n  color: #aaa;\\r\\n  margin-top: 1.5em;\\r\\n  margin-bottom: 2.2em;\\r\\n  padding-top: 0.5em;\\r\\n  padding-bottom: 0.5em;\\r\\n}\\r\\n.omb_loginOr .omb_hrOr {\\r\\n  background-color: #cdcdcd;\\r\\n  height: 1px;\\r\\n  margin-top: 0 !important;\\r\\n  margin-bottom: 0 !important;\\r\\n}\\r\\n.omb_loginOr .omb_spanOr {\\r\\n  display: block;\\r\\n  position: absolute;\\r\\n  left: 50%;\\r\\n  top: -0.3em;\\r\\n  margin-left: -1.5em;\\r\\n  background-color: white;\\r\\n  width: 3em;\\r\\n  text-align: center;\\r\\n}</code></pre>\\r\\n<pre class=\"snippet-code-html lang-html prettyprint-override\"><code>&lt;!DOCTYPE html&gt;\\r\\n&lt;html &gt;\\r\\n  &lt;head&gt;\\r\\n    &lt;meta charset=\"UTF-8\"&gt;\\r\\n    &lt;title&gt;Bootstrap Snippet: Login Form&lt;/title&gt;\\r\\n        &lt;link rel=\"stylesheet\" href=\"css/lstyle.css\"&gt;\\r\\n        &lt;link rel=\"stylesheet\" href=\"css/bootstrap.min.css\"&gt;\\r\\n    &lt;link href=\"font-awesome/css/font-awesome.min.css\" rel=\"stylesheet\" type=\"text/css\"&gt;\\r\\n  &lt;/head&gt;\\r\\n\\r\\n  &lt;body&gt;\\r\\n\\r\\n      &lt;div class=\"container\"&gt;\\r\\n        &lt;div class=\"form-signin\"&gt;\\r\\n    &lt;form&gt;\\r\\n      &lt;h2 class=\"form-signin-heading text-center\"&gt;&lt;i class=\"fa fa-tint fa-fw\"&gt;&lt;/i&gt;Hello&lt;/h2&gt;\\r\\n\\r\\n\\r\\n      &lt;div class=\"social-box\"&gt;\\r\\n        &lt;div class=\"row mg-btm\"&gt;\\r\\n          &lt;div class=\"col-md-12\"&gt;\\r\\n            &lt;a href=\"#\" class=\"btn btn-primary btn-block\"&gt;\\r\\n              &lt;i class=\"fa fa-facebook fa-fw\"&gt;&lt;/i&gt;    Log in\\r\\n            &lt;/a&gt;\\r\\n          &lt;/div&gt;\\r\\n        &lt;/div&gt;\\r\\n      &lt;/div&gt;\\r\\n\\r\\n      &lt;div class=\"newborder\"&gt;&lt;/div&gt;\\r\\n\\r\\n\\r\\n      &lt;input type=\"text\" class=\"form-control\" name=\"username\" placeholder=\"E-mail\" required=\"\" autofocus=\"\" /&gt;\\r\\n      &lt;input type=\"password\" class=\"form-control\" name=\"password\" placeholder=\"Password\" required=\"\"/&gt;\\r\\n      &lt;label class=\"checkbox text-right\"&gt;\\r\\n        &lt;input type=\"checkbox\" value=\"remember-me\" id=\"rememberMe\" name=\"rememberMe\"&gt; Remember me\\r\\n      &lt;/label&gt;\\r\\n      &lt;button class=\"btn btn-lg btn-info btn-block\" type=\"submit\"&gt;Log in&lt;/button&gt;\\r\\n    &lt;/form&gt;\\r\\n\\r\\n\\r\\n  &lt;div class=\"row omb_loginOr \"&gt;\\r\\n      &lt;hr class=\"omb_hrOr\"&gt;\\r\\n      &lt;span class=\"omb_spanOr\"&gt;or&lt;/span&gt;\\r\\n  &lt;/div&gt;\\r\\n\\r\\n\\r\\n        &lt;form&gt;\\r\\n\\r\\n          &lt;div class=\"alert alert-info\"&gt;&lt;p&gt;No registration?&lt;/p&gt;&lt;/div&gt;\\r\\n          &lt;input type=\"text\" class=\"form-control\" name=\"username\" placeholder=\"E-mail\" required=\"\" autofocus=\"\" /&gt;\\r\\n          &lt;input type=\"password\" class=\"form-control\" name=\"password\" placeholder=\"Password required=\"\"/&gt;\\r\\n\\r\\n          &lt;button class=\"btn btn-lg btn-info btn-block\" type=\"submit\"&gt;Register me &amp; log in&lt;/button&gt;\\r\\n        &lt;/form&gt;\\r\\n\\r\\n&lt;/div&gt;\\r\\n\\r\\n\\r\\n\\r\\n\\r\\n  &lt;/div&gt;\\r\\n    \\r\\n    \\r\\n    \\r\\n    \\r\\n    \\r\\n  &lt;/body&gt;\\r\\n&lt;/html&gt;</code></pre>\\r\\n</div>\\r\\n</div>\\r\\n</p>\\n\\n<p>Huge thanks in advance!</p>\\n',\n",
       "       'Implements ads in libgdx game correctly <p>I KNOW ITS LONG BUT I NEED HELP PLEASE.</p>\\n\\n<p>I\\'ve been working (and struggling) with this libgdx game for the past month now and everything worked out fine but when I added interstitial ad in it then it became unexpectedly slow and the game glitches a lot..it works fine if i remove the code with the ads</p>\\n\\n<p>How my game works is it goes from MenuState>>PlayState>>GameOverState>>PlayState>>GameOverState and so on..(all of the code are given below)</p>\\n\\n<p>I\\'ve got a couple questions\\n(a) How do I get my game to work smoothly?\\n(b) Is there any way to show ads only in GameOverState?(I tried introducing a boolean and a \\'if\\' statement on the ad but failed)\\n(c)How do i dispose my assets more effeciently?(They don\\'t dispose if the classes are called too fast repeatedly)</p>\\n\\n<p>If you require any more information about it, do let me know and I would be happy to do so..</p>\\n\\n<p>States:</p>\\n\\n<p>Main libgdx class:GrumpyDemo</p>\\n\\n<pre><code>package com.mygdx.game;\\n\\nimport com.badlogic.gdx.ApplicationAdapter;\\nimport com.badlogic.gdx.Gdx;\\nimport com.badlogic.gdx.graphics.GL20;\\nimport com.badlogic.gdx.graphics.Texture;\\nimport com.badlogic.gdx.graphics.g2d.SpriteBatch;\\nimport com.badlogic.gdx.utils.TimeUtils;\\nimport com.mygdx.game.States.AdCloseState;\\nimport com.mygdx.game.States.GameOverState;\\nimport com.mygdx.game.States.GameStateManager;\\nimport com.mygdx.game.States.MenuState;\\n\\npublic class GrumpyDemo extends ApplicationAdapter {\\n    public static final int WIDTH = 480;\\n    public static final int HEIGHT= 800;\\n\\npublic static final String TITLE = \"Flappy Bird\";\\nprivate GameStateManager gsm;\\npublic static long AdStart = 0;\\npublic AdController adController;\\n\\n\\nprivate SpriteBatch batch;\\n\\npublic GrumpyDemo(AdController adController){\\n    this.adController = adController;\\n}\\n\\n\\n@Override\\npublic void create () {\\n    batch = new SpriteBatch();\\n    gsm = new GameStateManager();\\n    Gdx.gl.glClearColor(1, 0, 0, 1);\\n    gsm.push(new MenuState(gsm));\\n    AdStart = TimeUtils.nanoTime();\\n    adController.showBannerAds();\\n}\\n\\n@Override\\npublic void render () {\\n\\n    Gdx.gl.glClear(GL20.GL_COLOR_BUFFER_BIT);\\n    gsm.update(Gdx.graphics.getDeltaTime());\\n    gsm.render(batch);\\n    if (TimeUtils.timeSinceMillis(AdStart)&gt; 30000){\\n        adController.showInterstitialAds(new Runnable() {\\n            @Override\\n            public void run() {\\n                gsm.pop();\\n                gsm.push(new AdCloseState(gsm));\\n            }\\n        });\\n\\n    }\\n}\\n\\n@Override\\npublic void dispose () {\\n    batch.dispose();\\n\\n\\n\\n}\\n}\\n</code></pre>\\n\\n<p>My abstract class: State</p>\\n\\n<pre><code> package com.mygdx.game.States;\\n\\nimport com.badlogic.gdx.graphics.OrthographicCamera;\\nimport com.badlogic.gdx.graphics.g2d.SpriteBatch;\\nimport com.badlogic.gdx.math.Vector3;\\n\\n/**\\n * Created by Kronos on 28-01-2017.\\n */\\n\\npublic abstract class State {\\n\\n    protected OrthographicCamera cam;\\n    protected Vector3 mouse;\\n    protected GameStateManager gsm;\\n\\n    protected State(GameStateManager gsm){\\n        this.gsm = gsm;\\n        cam = new OrthographicCamera();\\n        mouse = new Vector3();\\n\\n\\n    }\\n\\n    protected abstract void handleInput();\\n    public abstract void update(float dt);\\n    public abstract void render(SpriteBatch sb);\\n    public abstract void dispose();\\n</code></pre>\\n\\n<p>MenuState:</p>\\n\\n<pre><code> private Texture background;\\nprivate Texture playBtn;\\nprivate Music music;\\n\\npublic MenuState(GameStateManager gsm) {\\n    super(gsm);\\n    cam.setToOrtho(false, GrumpyDemo.WIDTH / 2, GrumpyDemo.HEIGHT / 2);\\n    background = new Texture(\"bg.png\");\\n    playBtn = new Texture(\"playbtn.png\");\\n    music = Gdx.audio.newMusic(Gdx.files.internal(\"mainmusic.mp3\"));\\n    music.setVolume(0.8f);\\n    music.play();\\n\\n}\\n\\n@Override\\npublic void handleInput() {\\n    if (Gdx.input.justTouched()) {\\n        gsm.set(new PlayState(gsm));\\n\\n    }\\n\\n\\n}\\n\\n@Override\\npublic void update(float dt) {\\n    handleInput();\\n\\n}\\n\\n@Override\\npublic void render(SpriteBatch sb) {\\n    sb.setProjectionMatrix(cam.combined);\\n    sb.begin();\\n    sb.draw(background, 0, 0);\\n    sb.draw(playBtn, cam.position.x - playBtn.getWidth() / 2, cam.position.y);\\n    sb.end();\\n\\n}\\n\\n@Override\\npublic void dispose() {\\n    background.dispose();\\n    playBtn.dispose();\\n    music.dispose();\\n    System.out.println(\"Menu State Disposed\");\\n}\\n</code></pre>\\n\\n<p>PlayState:</p>\\n\\n<pre><code>package com.mygdx.game.States;\\n\\nimport com.badlogic.gdx.Gdx;\\nimport com.badlogic.gdx.audio.Music;\\nimport com.badlogic.gdx.graphics.Color;\\nimport com.badlogic.gdx.graphics.Texture;\\nimport com.badlogic.gdx.graphics.g2d.BitmapFont;\\nimport com.badlogic.gdx.graphics.g2d.SpriteBatch;\\nimport com.badlogic.gdx.graphics.g2d.freetype.FreeTypeFontGenerator;\\nimport com.badlogic.gdx.math.Vector2;\\nimport com.badlogic.gdx.utils.Array;\\nimport com.badlogic.gdx.utils.TimeUtils;\\nimport com.mygdx.game.GrumpyDemo;\\nimport com.mygdx.game.Sprites.Bird;\\nimport com.mygdx.game.Sprites.Tube;\\n\\n/**\\n * Created by Kronos on 28-01-2017.\\n */\\n\\npublic class PlayState extends State {\\n    private static final int TUBE_SPACING = 75;\\n    private static final int TUBE_COUNT = 4;\\n\\n\\n    private Bird bird;\\n    private Texture actualGamebg;\\n    private Tube tube ;\\n    private Texture ground;\\n    private Vector2 groundPos1,groundPos2;\\n    private static final int HIGHEST_GROUND_LIMIT = -30;\\n    private Array&lt;Tube&gt; tubes;\\n    private int k;\\n    long startTime=0;\\n    private Music mainMusic;\\n    private Music scoreIncrease;\\n    private Music wingFlap;\\n    public BitmapFont font24;\\n    public String SCORE;\\n    public int l;\\n    public long gameOverStart=0;\\n\\n\\n\\n\\n\\n\\n    public PlayState(GameStateManager gsm) {\\n        super(gsm);\\n        bird = new Bird(0,300);\\n        actualGamebg = new Texture(\"bg.png\");\\n        cam.setToOrtho(false, GrumpyDemo.WIDTH/2,GrumpyDemo.HEIGHT/2);\\n\\n        tubes =new Array&lt;Tube&gt;();\\n        ground = new Texture(\"ground.png\");\\n        mainMusic = Gdx.audio.newMusic(Gdx.files.internal(\"mainmusic.mp3\"));\\n        scoreIncrease = Gdx.audio.newMusic(Gdx.files.internal(\"smw_coin.ogg\"));\\n        wingFlap = Gdx.audio.newMusic(Gdx.files.internal(\"sfx_wing.ogg\"));\\n\\n        font24= new BitmapFont();\\n        SCORE = new String();\\n        fontGenerator();\\n        groundPos1 = new Vector2(cam.position.x -cam.viewportWidth/2, HIGHEST_GROUND_LIMIT);\\n        groundPos2 = new Vector2((cam.position.x - cam.viewportWidth/2) + ground.getWidth(),HIGHEST_GROUND_LIMIT);\\n        startTime = TimeUtils.nanoTime();\\n        gameOverStart = TimeUtils.millis();\\n\\n        for(int i=1 ; i&lt;=TUBE_COUNT; i++)\\n        {\\n\\n            tubes.add(new Tube(i* (TUBE_SPACING + Tube.TUBE_WIDTH)));\\n        }\\n        mainMusic.play();\\n        mainMusic.setVolume(0.8f);\\n        mainMusic.setLooping(true);\\n\\n    }\\n\\n    @Override\\n    protected void handleInput() {\\n        if (Gdx.input.justTouched())\\n            bird.jump();\\n        wingFlap.setLooping(false);\\n        wingFlap.play();\\n        wingFlap.setVolume(0.1f);\\n    }\\n\\n\\n\\n\\n    @Override\\n    public void update(float dt) {\\n        handleInput();\\n\\n        updateGround();\\n\\n        bird.update(dt);\\n        if (TimeUtils.timeSinceNanos(startTime) &gt; 1400000000)\\n        {\\n            Score();\\n            startTime = TimeUtils.nanoTime();\\n        }\\n\\n\\n\\n        SCORE = String.valueOf(k);\\n\\n\\n\\n\\n\\n        for(int i =0 ; i&lt; tubes.size;i++)\\n        {\\n            Tube tube= tubes.get(i);\\n\\n            if (cam.position.x - (cam.viewportWidth/2) &gt; tube.getPosTopTube().x + tube.getTopTube().getWidth())\\n            {\\n                tube.reposition(tube.getPosTopTube().x + ((Tube.TUBE_WIDTH + TUBE_SPACING) *TUBE_COUNT));\\n            }\\n            if(tube.collides(bird.getBounds()))\\n            {\\n\\n                    cam.position.x = bird.getPosition().x;\\n                    mainMusic.stop();\\n\\n                    gsm.set(new GameOverState(gsm));\\n                    l = k;\\n\\n            }\\n\\n            else\\n                cam.position.x = bird.getPosition().x +80;\\n\\n        }\\n        if (bird.getPosition().y &lt;= ground.getHeight()){\\n\\n            gsm.set(new GameOverState(gsm));\\n           mainMusic.stop();\\n\\n            l = k;\\n\\n        }\\n\\n\\n\\n\\n        cam.update();\\n\\n    }\\n\\n\\n\\n    @Override\\n    public void render(SpriteBatch sb) {\\n\\n        sb.setProjectionMatrix(cam.combined);\\n        sb.begin();\\n        sb.draw(actualGamebg, cam.position.x - (cam.viewportWidth/2), 0);\\n        sb.draw(bird.getTexture(), bird.getPosition().x , bird.getPosition().y);\\n        for(Tube tube: tubes) {\\n\\n            sb.draw(tube.getTopTube(), tube.getPosTopTube().x, tube.getPosTopTube().y);\\n            sb.draw(tube.getBottomTube(), tube.getPosBottomTube().x, tube.getPosBottomTube().y);\\n        }\\n        sb.draw(ground,groundPos1.x,groundPos1.y);\\n        sb.draw(ground,groundPos2.x,groundPos2.y);\\n\\n        font24.draw(sb,SCORE,cam.position.x -2,cam.position.y + 15);\\n        sb.end();\\n\\n    }\\n\\n    /**\\n     * spritebatches must be drawn in order .The one at the bottommost acts as the top layer.\\n     */\\n\\n    @Override\\n    public void dispose() {\\n        actualGamebg.dispose();\\n        bird.dispose();\\n        font24.dispose();\\n        for(Tube tube: tubes)\\n        {\\n            tube.dispose();\\n        }\\n        ground.dispose();\\n        mainMusic.dispose();\\n        scoreIncrease.dispose();\\n        wingFlap.dispose();\\n\\n\\n        System.out.println(\"Play State Disposed\");\\n\\n    }\\n\\n\\n\\n\\n    private void updateGround()\\n    {\\n        if (cam.position.x-(cam.viewportWidth/2) &gt; groundPos1.x + ground.getWidth())\\n        {\\n            groundPos1.add(ground.getWidth()*2,0);\\n        }\\n        if (cam.position.x-(cam.viewportWidth/2) &gt; groundPos2.x + ground.getWidth())\\n        {\\n            groundPos2.add(ground.getWidth()*2,0);\\n        }\\n    }\\n\\n\\n    public void Score()\\n    {\\n        k++;\\n        scoreIncrease.play();\\n        scoreIncrease.setVolume(0.3f);\\n\\n    }\\n    public int getL(){\\n        return l;\\n    }\\n\\n\\n    public void fontGenerator(){\\n        FreeTypeFontGenerator generator = new FreeTypeFontGenerator(Gdx.files.internal(\"bitmapfont/PressStart2P.ttf\"));\\n        FreeTypeFontGenerator.FreeTypeFontParameter parameter= new FreeTypeFontGenerator.FreeTypeFontParameter();\\n\\n        parameter.size=12;\\n        parameter.color= Color.GOLD;\\n        parameter.borderColor= Color.GOLDENROD;\\n        font24= generator.generateFont(parameter);\\n        font24.setUseIntegerPositions(false);\\n    }\\n\\n\\n    }\\n</code></pre>\\n\\n<p>GameOverState:</p>\\n\\n<pre><code> private Texture gameOver;\\nprivate Texture gameOverBg;\\nprivate Texture playAgainBtn;\\nprivate Texture ground;\\nprivate Vector2 groundPos1;\\nprivate Music gameOverMusic;\\nprivate BitmapFont totalScore;\\nprivate String STRING;\\npublic PlayState playState;\\npublic Boolean AdStart = true;\\n\\n\\n\\n\\npublic GameOverState(GameStateManager gsm) {\\n    super(gsm);\\n    cam.setToOrtho(false, GrumpyDemo.WIDTH/2,GrumpyDemo.HEIGHT/2);\\n\\n    gameOver = new Texture(\"gameover.png\");\\n    gameOverBg =  new Texture (\"bg.png\");\\n    playAgainBtn = new Texture(\"playbtn.png\");\\n    ground = new Texture(\"ground.png\");\\n    AdStart = new Boolean(true);\\n\\n    gameOverMusic = Gdx.audio.newMusic(Gdx.files.internal(\"gameoversfx.ogg\"));\\n    groundPos1 = new Vector2(cam.position.x -cam.viewportWidth/2, -30);\\n    totalScore =  new BitmapFont();\\n    STRING = new String();\\n    playState = new PlayState(gsm);\\n    gameOverMusic.play();\\n    gameOverMusic.setVolume(1.0f);\\n\\n\\n\\n}\\n\\n@Override\\npublic void handleInput() {\\n    if (Gdx.input.justTouched()) {\\n\\n            gsm.set(new PlayState(gsm));\\n            gameOverMusic.stop();\\n            AdStart = false;\\n\\n    }\\n\\n\\n}\\n\\n@Override\\npublic void update(float dt) {\\n    handleInput();\\n    STRING = \"SCORE: \" + playState.getL();\\n    fontGenerator();\\n\\n}\\n\\n@Override\\npublic void render(SpriteBatch sb) {\\n    sb.setProjectionMatrix(cam.combined);\\n    sb.begin();\\n    sb.draw(gameOverBg,0,0);\\n    sb.draw(gameOver, cam.position.x-gameOver.getWidth()/2 , 5*(cam.position.y/3));\\n    sb.draw(ground,groundPos1.x,groundPos1.y);\\n    sb.draw(playAgainBtn,cam.position.x-playAgainBtn.getWidth()/2,2*(cam.position.y/3));\\n    totalScore.draw(sb,STRING,cam.position.x - gameOver.getWidth()/4 ,5*(cam.position.y/4));\\n\\n    sb.end();\\n\\n\\n}\\n\\n@Override\\npublic void dispose() {\\n    gameOver.dispose();\\n    gameOverBg.dispose();\\n    playAgainBtn.dispose();\\n    ground.dispose();\\n    totalScore.dispose();\\n    playState.dispose();\\n\\n    System.out.println(\"Game Over State Disposed\");\\n\\n}\\n\\npublic void fontGenerator(){\\n    FreeTypeFontGenerator generator = new FreeTypeFontGenerator(Gdx.files.internal(\"bitmapfont/PressStart2P.ttf\"));\\n    FreeTypeFontGenerator.FreeTypeFontParameter parameter= new FreeTypeFontGenerator.FreeTypeFontParameter();\\n\\n    parameter.size=12;\\n    parameter.color= Color.GOLD;\\n    parameter.borderColor= Color.GOLDENROD;\\n    totalScore= generator.generateFont(parameter);\\n    totalScore.setUseIntegerPositions(false);\\n}\\n\\npublic Boolean getAdStart(){\\n    return AdStart;\\n}\\n</code></pre>\\n\\n<p>Almost forgot it..My game state manager:</p>\\n\\n<pre><code>  package com.mygdx.game.States;\\n\\nimport com.badlogic.gdx.graphics.g2d.SpriteBatch;\\n\\nimport java.util.Stack;\\n\\n/**\\n * Created by Kronos on 28-01-2017.\\n */\\n\\npublic class GameStateManager {\\n\\n    private Stack&lt;State&gt; states;\\n    public GameStateManager(){\\n\\n        states = new Stack&lt;State&gt;();\\n    }\\n\\n\\n    public void push(State state)\\n    {\\n        states.push(state);\\n    }\\n\\n    public void pop()\\n    {\\n        states.pop().dispose();\\n    }\\n\\n    public void set(State state)\\n    {\\n        states.pop().dispose();\\n        states.push(state);\\n    }\\n\\n    public void update(float dt)\\n    {\\n        states.peek().update(dt);\\n    }\\n\\n    public void render(SpriteBatch sb)\\n    {\\n        states.peek().render(sb);\\n    }\\n}\\n</code></pre>\\n\\n<p>Thanks for all the help.</p>\\n',\n",
       "       \"Creating a table in SQL using values of two table with some hard coded values creating a table in SQL using values of two table with some hard coded values.\\r\\ni want to insert punchin and puchout for each employee_code which i will get from [AttendanceCorrection].[dbo].[Tbl_FMOEmp] and Punch_Date from [Zultime].[dbo].[TIME_SHEET]\\r\\n\\r\\nWhat I have tried:\\r\\n\\r\\nINSERT INTO Tbl_EmpNotPunching\\r\\nselect\\r\\n(SELECT [employee_Code] FROM [AttendanceCorrection].[dbo].[Tbl_FMOEmp]) as employee_Code, \\r\\n(SELECT distinct [Punch_Date] FROM [Zultime].[dbo].[TIME_SHEET]) as Punch_Date,\\r\\n'7:30' as PunchIN,\\r\\n'16:30' as punchOUT\",\n",
       "       ...,\n",
       "       'Selling my own PHP script <p>Right now I\\'m learning how to program in PHP. I\\'m trying to reach a point where I can build something such as a calendar, chat box, comment section, ext and sell it on a site such as code canyon. I talked to an \"Advisor\" on Codecademy and he said that it would be very hard to do that without working with a team. Is there any validity to that? I don\\'t see why I could not build my own calendar to schedule appointments on that I built by myself once I have been working with PHP for six months to a year. </p>\\n',\n",
       "       'Post form data with axios in Node.js <p>I\\'m testing out the Uber API on Postman, and I\\'m able to send a request with form data successfully. When I try to translate this request using Node.js and the axios library I get an error. </p>\\n\\n<p>Here is what my Postman request looks like:</p>\\n\\n<p><a href=\"https://i.stack.imgur.com/vogec.png\" rel=\"noreferrer\"><img src=\"https://i.stack.imgur.com/vogec.png\" alt=\"Postman POST request\"></a></p>\\n\\n<p>The response I get is: <code>{ \"error\": \"invalid_client\" }</code></p>\\n\\n<p>Here is what I\\'m doing in Node.js and axios:</p>\\n\\n<pre><code>var axios = require(\"axios\");\\n\\nconst config = { headers: { \\'Content-Type\\': \\'multipart/form-data\\' } };\\n\\naxios.post(\\'https://login.uber.com/oauth/v2/token\\', {\\n  client_id: \\'***\\',\\n  client_secret: \\'***\\',\\n  grant_type: \\'authorization_code\\',\\n  redirect_uri: \\'http://localhost:8080/\\',\\n  code: \\'***\\'\\n}, config)\\n  .then(function(response) {\\n    console.log(response.data)\\n  })\\n  .catch(function(error) {\\n    console.log(error)\\n  })\\n</code></pre>\\n\\n<p>When I do this, I get a 400 response. </p>\\n\\n<p>I added the <code>\\'multipart/form-data\\'</code> header because I filled out the form-data in the Postman request. Without the header I get the same result.</p>\\n\\n<p>I\\'m expecting to get the same response I\\'m getting from Postman, is there something wrong with my config variable in the Node.js script? </p>\\n\\n<p>Any help would be appreciated!</p>\\n',\n",
       "       'Trying to move data from Google Bigquery to Blob I am trying to move data from Google bigquery to Blob incrementally, can anyone help me with this?'],\n",
       "      dtype=object)"
      ]
     },
     "execution_count": 10,
     "metadata": {},
     "output_type": "execute_result"
    }
   ],
   "source": [
    "from sklearn.model_selection import train_test_split\n",
    "X=df['text'].values\n",
    "y=df['Y'].values\n",
    "X_train, X_test, y_train, y_test = train_test_split(X, y, test_size=0.20, shuffle=True)\n",
    "X_train"
   ]
  },
  {
   "cell_type": "code",
   "execution_count": 11,
   "metadata": {},
   "outputs": [
    {
     "data": {
      "text/plain": [
       "<12000x212002 sparse matrix of type '<class 'numpy.float64'>'\n",
       "\twith 757664 stored elements in Compressed Sparse Row format>"
      ]
     },
     "execution_count": 11,
     "metadata": {},
     "output_type": "execute_result"
    }
   ],
   "source": [
    "from sklearn.feature_extraction.text import TfidfVectorizer\n",
    "#Vectorization\n",
    "vectorizer = TfidfVectorizer()\n",
    "X_train = vectorizer.fit_transform(X_train)\n",
    "X_test = vectorizer.transform(X_test)\n",
    "X_test"
   ]
  },
  {
   "cell_type": "code",
   "execution_count": 39,
   "metadata": {},
   "outputs": [
    {
     "ename": "ValueError",
     "evalue": "Please provide as model inputs either a single array or a list of arrays. You passed: inputs=  (0, 189358)\t0.05785868475958091\n  (0, 324463)\t0.060827333396160414\n  (0, 55406)\t0.07219124646941658\n  (0, 226446)\t0.05622473263721933\n  (0, 297840)\t0.033507710493137506\n  (0, 308645)\t0.06803926579987427\n  (0, 321721)\t0.10529317833341381\n  (0, 36652)\t0.12442725559185154\n  (0, 435763)\t0.0404007212620033\n  (0, 448244)\t0.03632213895997637\n  (0, 336794)\t0.06771180037217676\n  (0, 55497)\t0.12381361506802752\n  (0, 318121)\t0.12442725559185154\n  (0, 431253)\t0.12442725559185154\n  (0, 55628)\t0.12442725559185154\n  (0, 401890)\t0.12442725559185154\n  (0, 260861)\t0.07367474126231686\n  (0, 397321)\t0.07166910623223174\n  (0, 374470)\t0.06417339535946695\n  (0, 435130)\t0.03609687183380289\n  (0, 99434)\t0.021735418779530898\n  (0, 42337)\t0.12442725559185154\n  (0, 284956)\t0.02973333849358954\n  (0, 42336)\t0.12442725559185154\n  (0, 53773)\t0.053125400369478264\n  :\t:\n  (47999, 321830)\t0.17997184512103825\n  (47999, 254391)\t0.17338936063252694\n  (47999, 242752)\t0.1574661820045265\n  (47999, 344564)\t0.3192679692342787\n  (47999, 276411)\t0.31110808917151955\n  (47999, 263266)\t0.3467787212650539\n  (47999, 242766)\t0.2851814956412658\n  (47999, 263404)\t0.1538435793788888\n  (47999, 182472)\t0.0759198307033088\n  (47999, 367321)\t0.19567017356291108\n  (47999, 325060)\t0.0561471581645035\n  (47999, 263245)\t0.08543816388333926\n  (47999, 225600)\t0.06894571264637162\n  (47999, 43331)\t0.0631866412455483\n  (47999, 50710)\t0.05813358144678109\n  (47999, 189239)\t0.04608314055696306\n  (47999, 455670)\t0.03840566377028035\n  (47999, 384504)\t0.06706742613200724\n  (47999, 445947)\t0.03729674158319997\n  (47999, 324463)\t0.08798078341459817\n  (47999, 99434)\t0.03143815560042629\n  (47999, 284956)\t0.08601272711266224\n  (47999, 317567)\t0.03137185573210078\n  (47999, 436925)\t0.05809342486767915\n  (47999, 36443)\t0.05914265482254197",
     "output_type": "error",
     "traceback": [
      "\u001b[1;31m---------------------------------------------------------------------------\u001b[0m",
      "\u001b[1;31mValueError\u001b[0m                                Traceback (most recent call last)",
      "\u001b[1;32m<ipython-input-39-1b5628f0abae>\u001b[0m in \u001b[0;36m<module>\u001b[1;34m\u001b[0m\n\u001b[0;32m     14\u001b[0m \u001b[1;32mfrom\u001b[0m \u001b[0mtensorflow\u001b[0m\u001b[1;33m.\u001b[0m\u001b[0mkeras\u001b[0m\u001b[1;33m.\u001b[0m\u001b[0mcallbacks\u001b[0m \u001b[1;32mimport\u001b[0m \u001b[0mEarlyStopping\u001b[0m\u001b[1;33m\u001b[0m\u001b[1;33m\u001b[0m\u001b[0m\n\u001b[0;32m     15\u001b[0m \u001b[0mearly_stop\u001b[0m \u001b[1;33m=\u001b[0m \u001b[0mEarlyStopping\u001b[0m\u001b[1;33m(\u001b[0m\u001b[0mmonitor\u001b[0m\u001b[1;33m=\u001b[0m\u001b[1;34m'val_loss'\u001b[0m\u001b[1;33m,\u001b[0m \u001b[0mmode\u001b[0m\u001b[1;33m=\u001b[0m\u001b[1;34m'min'\u001b[0m\u001b[1;33m,\u001b[0m \u001b[0mverbose\u001b[0m\u001b[1;33m=\u001b[0m\u001b[1;36m1\u001b[0m\u001b[1;33m,\u001b[0m \u001b[0mpatience\u001b[0m\u001b[1;33m=\u001b[0m\u001b[1;36m10\u001b[0m\u001b[1;33m)\u001b[0m\u001b[1;33m\u001b[0m\u001b[1;33m\u001b[0m\u001b[0m\n\u001b[1;32m---> 16\u001b[1;33m \u001b[0mmodel\u001b[0m\u001b[1;33m.\u001b[0m\u001b[0mfit\u001b[0m\u001b[1;33m(\u001b[0m\u001b[0mx\u001b[0m\u001b[1;33m=\u001b[0m\u001b[0mX_train\u001b[0m\u001b[1;33m,\u001b[0m\u001b[0my\u001b[0m\u001b[1;33m=\u001b[0m\u001b[0my_train\u001b[0m\u001b[1;33m,\u001b[0m\u001b[0mepochs\u001b[0m\u001b[1;33m=\u001b[0m\u001b[1;36m40\u001b[0m\u001b[1;33m,\u001b[0m\u001b[0mvalidation_data\u001b[0m\u001b[1;33m=\u001b[0m\u001b[1;33m(\u001b[0m\u001b[0mX_test\u001b[0m\u001b[1;33m,\u001b[0m \u001b[0my_test\u001b[0m\u001b[1;33m)\u001b[0m\u001b[1;33m,\u001b[0m \u001b[0mverbose\u001b[0m\u001b[1;33m=\u001b[0m\u001b[1;36m1\u001b[0m\u001b[1;33m,\u001b[0m\u001b[0mcallbacks\u001b[0m\u001b[1;33m=\u001b[0m\u001b[1;33m[\u001b[0m\u001b[0mearly_stop\u001b[0m\u001b[1;33m]\u001b[0m\u001b[1;33m)\u001b[0m\u001b[1;33m\u001b[0m\u001b[1;33m\u001b[0m\u001b[0m\n\u001b[0m",
      "\u001b[1;32m~\\.conda\\envs\\Machine Learning\\lib\\site-packages\\tensorflow_core\\python\\keras\\engine\\training.py\u001b[0m in \u001b[0;36mfit\u001b[1;34m(self, x, y, batch_size, epochs, verbose, callbacks, validation_split, validation_data, shuffle, class_weight, sample_weight, initial_epoch, steps_per_epoch, validation_steps, validation_freq, max_queue_size, workers, use_multiprocessing, **kwargs)\u001b[0m\n\u001b[0;32m    817\u001b[0m         \u001b[0mmax_queue_size\u001b[0m\u001b[1;33m=\u001b[0m\u001b[0mmax_queue_size\u001b[0m\u001b[1;33m,\u001b[0m\u001b[1;33m\u001b[0m\u001b[1;33m\u001b[0m\u001b[0m\n\u001b[0;32m    818\u001b[0m         \u001b[0mworkers\u001b[0m\u001b[1;33m=\u001b[0m\u001b[0mworkers\u001b[0m\u001b[1;33m,\u001b[0m\u001b[1;33m\u001b[0m\u001b[1;33m\u001b[0m\u001b[0m\n\u001b[1;32m--> 819\u001b[1;33m         use_multiprocessing=use_multiprocessing)\n\u001b[0m\u001b[0;32m    820\u001b[0m \u001b[1;33m\u001b[0m\u001b[0m\n\u001b[0;32m    821\u001b[0m   def evaluate(self,\n",
      "\u001b[1;32m~\\.conda\\envs\\Machine Learning\\lib\\site-packages\\tensorflow_core\\python\\keras\\engine\\training_v2.py\u001b[0m in \u001b[0;36mfit\u001b[1;34m(self, model, x, y, batch_size, epochs, verbose, callbacks, validation_split, validation_data, shuffle, class_weight, sample_weight, initial_epoch, steps_per_epoch, validation_steps, validation_freq, max_queue_size, workers, use_multiprocessing, **kwargs)\u001b[0m\n\u001b[0;32m    233\u001b[0m           \u001b[0mmax_queue_size\u001b[0m\u001b[1;33m=\u001b[0m\u001b[0mmax_queue_size\u001b[0m\u001b[1;33m,\u001b[0m\u001b[1;33m\u001b[0m\u001b[1;33m\u001b[0m\u001b[0m\n\u001b[0;32m    234\u001b[0m           \u001b[0mworkers\u001b[0m\u001b[1;33m=\u001b[0m\u001b[0mworkers\u001b[0m\u001b[1;33m,\u001b[0m\u001b[1;33m\u001b[0m\u001b[1;33m\u001b[0m\u001b[0m\n\u001b[1;32m--> 235\u001b[1;33m           use_multiprocessing=use_multiprocessing)\n\u001b[0m\u001b[0;32m    236\u001b[0m \u001b[1;33m\u001b[0m\u001b[0m\n\u001b[0;32m    237\u001b[0m       \u001b[0mtotal_samples\u001b[0m \u001b[1;33m=\u001b[0m \u001b[0m_get_total_number_of_samples\u001b[0m\u001b[1;33m(\u001b[0m\u001b[0mtraining_data_adapter\u001b[0m\u001b[1;33m)\u001b[0m\u001b[1;33m\u001b[0m\u001b[1;33m\u001b[0m\u001b[0m\n",
      "\u001b[1;32m~\\.conda\\envs\\Machine Learning\\lib\\site-packages\\tensorflow_core\\python\\keras\\engine\\training_v2.py\u001b[0m in \u001b[0;36m_process_training_inputs\u001b[1;34m(model, x, y, batch_size, epochs, sample_weights, class_weights, steps_per_epoch, validation_split, validation_data, validation_steps, shuffle, distribution_strategy, max_queue_size, workers, use_multiprocessing)\u001b[0m\n\u001b[0;32m    591\u001b[0m         \u001b[0mmax_queue_size\u001b[0m\u001b[1;33m=\u001b[0m\u001b[0mmax_queue_size\u001b[0m\u001b[1;33m,\u001b[0m\u001b[1;33m\u001b[0m\u001b[1;33m\u001b[0m\u001b[0m\n\u001b[0;32m    592\u001b[0m         \u001b[0mworkers\u001b[0m\u001b[1;33m=\u001b[0m\u001b[0mworkers\u001b[0m\u001b[1;33m,\u001b[0m\u001b[1;33m\u001b[0m\u001b[1;33m\u001b[0m\u001b[0m\n\u001b[1;32m--> 593\u001b[1;33m         use_multiprocessing=use_multiprocessing)\n\u001b[0m\u001b[0;32m    594\u001b[0m     \u001b[0mval_adapter\u001b[0m \u001b[1;33m=\u001b[0m \u001b[1;32mNone\u001b[0m\u001b[1;33m\u001b[0m\u001b[1;33m\u001b[0m\u001b[0m\n\u001b[0;32m    595\u001b[0m     \u001b[1;32mif\u001b[0m \u001b[0mvalidation_data\u001b[0m\u001b[1;33m:\u001b[0m\u001b[1;33m\u001b[0m\u001b[1;33m\u001b[0m\u001b[0m\n",
      "\u001b[1;32m~\\.conda\\envs\\Machine Learning\\lib\\site-packages\\tensorflow_core\\python\\keras\\engine\\training_v2.py\u001b[0m in \u001b[0;36m_process_inputs\u001b[1;34m(model, mode, x, y, batch_size, epochs, sample_weights, class_weights, shuffle, steps, distribution_strategy, max_queue_size, workers, use_multiprocessing)\u001b[0m\n\u001b[0;32m    644\u001b[0m     \u001b[0mstandardize_function\u001b[0m \u001b[1;33m=\u001b[0m \u001b[1;32mNone\u001b[0m\u001b[1;33m\u001b[0m\u001b[1;33m\u001b[0m\u001b[0m\n\u001b[0;32m    645\u001b[0m     x, y, sample_weights = standardize(\n\u001b[1;32m--> 646\u001b[1;33m         x, y, sample_weight=sample_weights)\n\u001b[0m\u001b[0;32m    647\u001b[0m   \u001b[1;32melif\u001b[0m \u001b[0madapter_cls\u001b[0m \u001b[1;32mis\u001b[0m \u001b[0mdata_adapter\u001b[0m\u001b[1;33m.\u001b[0m\u001b[0mListsOfScalarsDataAdapter\u001b[0m\u001b[1;33m:\u001b[0m\u001b[1;33m\u001b[0m\u001b[1;33m\u001b[0m\u001b[0m\n\u001b[0;32m    648\u001b[0m     \u001b[0mstandardize_function\u001b[0m \u001b[1;33m=\u001b[0m \u001b[0mstandardize\u001b[0m\u001b[1;33m\u001b[0m\u001b[1;33m\u001b[0m\u001b[0m\n",
      "\u001b[1;32m~\\.conda\\envs\\Machine Learning\\lib\\site-packages\\tensorflow_core\\python\\keras\\engine\\training.py\u001b[0m in \u001b[0;36m_standardize_user_data\u001b[1;34m(self, x, y, sample_weight, class_weight, batch_size, check_steps, steps_name, steps, validation_split, shuffle, extract_tensors_from_dataset)\u001b[0m\n\u001b[0;32m   2344\u001b[0m     \u001b[1;31m# First, we build the model on the fly if necessary.\u001b[0m\u001b[1;33m\u001b[0m\u001b[1;33m\u001b[0m\u001b[1;33m\u001b[0m\u001b[0m\n\u001b[0;32m   2345\u001b[0m     \u001b[1;32mif\u001b[0m \u001b[1;32mnot\u001b[0m \u001b[0mself\u001b[0m\u001b[1;33m.\u001b[0m\u001b[0minputs\u001b[0m\u001b[1;33m:\u001b[0m\u001b[1;33m\u001b[0m\u001b[1;33m\u001b[0m\u001b[0m\n\u001b[1;32m-> 2346\u001b[1;33m       \u001b[0mall_inputs\u001b[0m\u001b[1;33m,\u001b[0m \u001b[0my_input\u001b[0m\u001b[1;33m,\u001b[0m \u001b[0mdict_inputs\u001b[0m \u001b[1;33m=\u001b[0m \u001b[0mself\u001b[0m\u001b[1;33m.\u001b[0m\u001b[0m_build_model_with_inputs\u001b[0m\u001b[1;33m(\u001b[0m\u001b[0mx\u001b[0m\u001b[1;33m,\u001b[0m \u001b[0my\u001b[0m\u001b[1;33m)\u001b[0m\u001b[1;33m\u001b[0m\u001b[1;33m\u001b[0m\u001b[0m\n\u001b[0m\u001b[0;32m   2347\u001b[0m       \u001b[0mis_build_called\u001b[0m \u001b[1;33m=\u001b[0m \u001b[1;32mTrue\u001b[0m\u001b[1;33m\u001b[0m\u001b[1;33m\u001b[0m\u001b[0m\n\u001b[0;32m   2348\u001b[0m     \u001b[1;32melse\u001b[0m\u001b[1;33m:\u001b[0m\u001b[1;33m\u001b[0m\u001b[1;33m\u001b[0m\u001b[0m\n",
      "\u001b[1;32m~\\.conda\\envs\\Machine Learning\\lib\\site-packages\\tensorflow_core\\python\\keras\\engine\\training.py\u001b[0m in \u001b[0;36m_build_model_with_inputs\u001b[1;34m(self, inputs, targets)\u001b[0m\n\u001b[0;32m   2525\u001b[0m     \u001b[1;31m# or lists of arrays, and extract a flat list of inputs from the passed\u001b[0m\u001b[1;33m\u001b[0m\u001b[1;33m\u001b[0m\u001b[1;33m\u001b[0m\u001b[0m\n\u001b[0;32m   2526\u001b[0m     \u001b[1;31m# structure.\u001b[0m\u001b[1;33m\u001b[0m\u001b[1;33m\u001b[0m\u001b[1;33m\u001b[0m\u001b[0m\n\u001b[1;32m-> 2527\u001b[1;33m     \u001b[0mtraining_utils\u001b[0m\u001b[1;33m.\u001b[0m\u001b[0mvalidate_input_types\u001b[0m\u001b[1;33m(\u001b[0m\u001b[0minputs\u001b[0m\u001b[1;33m,\u001b[0m \u001b[0morig_inputs\u001b[0m\u001b[1;33m)\u001b[0m\u001b[1;33m\u001b[0m\u001b[1;33m\u001b[0m\u001b[0m\n\u001b[0m\u001b[0;32m   2528\u001b[0m \u001b[1;33m\u001b[0m\u001b[0m\n\u001b[0;32m   2529\u001b[0m     \u001b[1;32mif\u001b[0m \u001b[0misinstance\u001b[0m\u001b[1;33m(\u001b[0m\u001b[0minputs\u001b[0m\u001b[1;33m,\u001b[0m \u001b[1;33m(\u001b[0m\u001b[0mlist\u001b[0m\u001b[1;33m,\u001b[0m \u001b[0mtuple\u001b[0m\u001b[1;33m)\u001b[0m\u001b[1;33m)\u001b[0m\u001b[1;33m:\u001b[0m\u001b[1;33m\u001b[0m\u001b[1;33m\u001b[0m\u001b[0m\n",
      "\u001b[1;32m~\\.conda\\envs\\Machine Learning\\lib\\site-packages\\tensorflow_core\\python\\keras\\engine\\training_utils.py\u001b[0m in \u001b[0;36mvalidate_input_types\u001b[1;34m(inp, orig_inp, allow_dict, field_name)\u001b[0m\n\u001b[0;32m   1243\u001b[0m     raise ValueError(\n\u001b[0;32m   1244\u001b[0m         \u001b[1;34m'Please provide as model inputs either a single array or a list of '\u001b[0m\u001b[1;33m\u001b[0m\u001b[1;33m\u001b[0m\u001b[0m\n\u001b[1;32m-> 1245\u001b[1;33m         'arrays. You passed: {}={}'.format(field_name, orig_inp))\n\u001b[0m\u001b[0;32m   1246\u001b[0m \u001b[1;33m\u001b[0m\u001b[0m\n\u001b[0;32m   1247\u001b[0m \u001b[1;33m\u001b[0m\u001b[0m\n",
      "\u001b[1;31mValueError\u001b[0m: Please provide as model inputs either a single array or a list of arrays. You passed: inputs=  (0, 189358)\t0.05785868475958091\n  (0, 324463)\t0.060827333396160414\n  (0, 55406)\t0.07219124646941658\n  (0, 226446)\t0.05622473263721933\n  (0, 297840)\t0.033507710493137506\n  (0, 308645)\t0.06803926579987427\n  (0, 321721)\t0.10529317833341381\n  (0, 36652)\t0.12442725559185154\n  (0, 435763)\t0.0404007212620033\n  (0, 448244)\t0.03632213895997637\n  (0, 336794)\t0.06771180037217676\n  (0, 55497)\t0.12381361506802752\n  (0, 318121)\t0.12442725559185154\n  (0, 431253)\t0.12442725559185154\n  (0, 55628)\t0.12442725559185154\n  (0, 401890)\t0.12442725559185154\n  (0, 260861)\t0.07367474126231686\n  (0, 397321)\t0.07166910623223174\n  (0, 374470)\t0.06417339535946695\n  (0, 435130)\t0.03609687183380289\n  (0, 99434)\t0.021735418779530898\n  (0, 42337)\t0.12442725559185154\n  (0, 284956)\t0.02973333849358954\n  (0, 42336)\t0.12442725559185154\n  (0, 53773)\t0.053125400369478264\n  :\t:\n  (47999, 321830)\t0.17997184512103825\n  (47999, 254391)\t0.17338936063252694\n  (47999, 242752)\t0.1574661820045265\n  (47999, 344564)\t0.3192679692342787\n  (47999, 276411)\t0.31110808917151955\n  (47999, 263266)\t0.3467787212650539\n  (47999, 242766)\t0.2851814956412658\n  (47999, 263404)\t0.1538435793788888\n  (47999, 182472)\t0.0759198307033088\n  (47999, 367321)\t0.19567017356291108\n  (47999, 325060)\t0.0561471581645035\n  (47999, 263245)\t0.08543816388333926\n  (47999, 225600)\t0.06894571264637162\n  (47999, 43331)\t0.0631866412455483\n  (47999, 50710)\t0.05813358144678109\n  (47999, 189239)\t0.04608314055696306\n  (47999, 455670)\t0.03840566377028035\n  (47999, 384504)\t0.06706742613200724\n  (47999, 445947)\t0.03729674158319997\n  (47999, 324463)\t0.08798078341459817\n  (47999, 99434)\t0.03143815560042629\n  (47999, 284956)\t0.08601272711266224\n  (47999, 317567)\t0.03137185573210078\n  (47999, 436925)\t0.05809342486767915\n  (47999, 36443)\t0.05914265482254197"
     ]
    }
   ],
   "source": [
    "from tensorflow.keras.models import Sequential\n",
    "from tensorflow.keras.layers import Dense, Activation, Dropout\n",
    "model = Sequential()\n",
    "model.add(Dense(units=8270,activation='relu'))\n",
    "model.add(Dropout(0.5))\n",
    "model.add(Dense(units=4000,activation='relu'))\n",
    "model.add(Dropout(0.5))\n",
    "model.add(Dense(units=1000,activation='relu'))\n",
    "model.add(Dropout(0.5))\n",
    "model.add(Dense(units=400,activation='relu'))\n",
    "model.add(Dropout(0.5))\n",
    "model.add(Dense(units=1,activation='sigmoid'))\n",
    "model.compile(loss='binary_crossentropy', optimizer='adam')\n",
    "from tensorflow.keras.callbacks import EarlyStopping\n",
    "early_stop = EarlyStopping(monitor='val_loss', mode='min', verbose=1, patience=10)\n",
    "model.fit(x=X_train,y=y_train,epochs=40,validation_data=(X_test, y_test), verbose=1,callbacks=[early_stop])"
   ]
  },
  {
   "cell_type": "code",
   "execution_count": null,
   "metadata": {},
   "outputs": [],
   "source": []
  }
 ],
 "metadata": {
  "kernelspec": {
   "display_name": "Python 3",
   "language": "python",
   "name": "python3"
  },
  "language_info": {
   "codemirror_mode": {
    "name": "ipython",
    "version": 3
   },
   "file_extension": ".py",
   "mimetype": "text/x-python",
   "name": "python",
   "nbconvert_exporter": "python",
   "pygments_lexer": "ipython3",
   "version": "3.7.9"
  }
 },
 "nbformat": 4,
 "nbformat_minor": 4
}
